{
  "nbformat": 4,
  "nbformat_minor": 0,
  "metadata": {
    "colab": {
      "name": "Experiment-2.ipynb",
      "provenance": []
    },
    "kernelspec": {
      "name": "python3",
      "display_name": "Python 3"
    },
    "language_info": {
      "name": "python"
    }
  },
  "cells": [
    {
      "cell_type": "markdown",
      "source": [
        "### Exploring   Decision control, Loop control statements and function, passing arguments to functions, default arguments, *args, **kwargs, map, reduce, filter, lambda functions.\n"
      ],
      "metadata": {
        "id": "oia8MXXzslya"
      }
    },
    {
      "cell_type": "markdown",
      "source": [
        "loops, decision control statements & functions\n"
      ],
      "metadata": {
        "id": "Cf1xwpQmvqsr"
      }
    },
    {
      "cell_type": "code",
      "source": [
        "print(\"for loop demo-\")\n",
        "for i in range(10,2,-3):\n",
        "  print(i)\n",
        "\n",
        "print(\"while loop demo-\")\n",
        "num = 12345\n",
        "sum_num = 0\n",
        "while num!=0:\n",
        "  sum_num = sum_num + num%10\n",
        "  num=num//10\n",
        "print(sum_num)\n"
      ],
      "metadata": {
        "colab": {
          "base_uri": "https://localhost:8080/"
        },
        "id": "dJeyzw97vt_f",
        "outputId": "f19658d0-c5d6-4db0-e26b-3a057bd14544"
      },
      "execution_count": 8,
      "outputs": [
        {
          "output_type": "stream",
          "name": "stdout",
          "text": [
            "for loop demo-\n",
            "10\n",
            "7\n",
            "4\n",
            "while loop demo-\n",
            "15\n"
          ]
        }
      ]
    },
    {
      "cell_type": "code",
      "source": [
        "sample = 'python is really fun'\n",
        "\n",
        "for i in sample:\n",
        "  if i in 'aeiou':\n",
        "    print(\"x\", end=\"\")\n",
        "  else:\n",
        "    print(i, end=\"\")\n",
        "  "
      ],
      "metadata": {
        "colab": {
          "base_uri": "https://localhost:8080/"
        },
        "id": "5Lxw3pHPzPoH",
        "outputId": "477eb219-ffdd-4b82-b536-5a63e2419d40"
      },
      "execution_count": 16,
      "outputs": [
        {
          "output_type": "stream",
          "name": "stdout",
          "text": [
            "pythxn xs rxxlly fxn"
          ]
        }
      ]
    },
    {
      "cell_type": "code",
      "source": [
        "def my_function(name= None, department = \"CS\", age = None, student=True):\n",
        "  print(\"Name: \", name)\n",
        "  print(\"Dept: \", department)\n",
        "  print(\"Age: \", age)\n",
        "  print(\"student\" if student else \"teacher\")\n",
        "  print(\"~\"*30)\n",
        "\n",
        "my_function(\"aman\", age=19)\n",
        "my_function(\"baman\", age=20, department=\"Mech\", student=False)\n",
        "my_function(department=\"Electronics\", age=21, student=True)\n",
        "my_function()"
      ],
      "metadata": {
        "colab": {
          "base_uri": "https://localhost:8080/"
        },
        "id": "B4C1GuPpCYRl",
        "outputId": "e898c464-afbd-412b-b1d3-9b15dc399d9f"
      },
      "execution_count": 67,
      "outputs": [
        {
          "output_type": "stream",
          "name": "stdout",
          "text": [
            "Name:  aman\n",
            "Dept:  CS\n",
            "Age:  19\n",
            "student\n",
            "~~~~~~~~~~~~~~~~~~~~~~~~~~~~~~\n",
            "Name:  baman\n",
            "Dept:  Mech\n",
            "Age:  20\n",
            "teacher\n",
            "~~~~~~~~~~~~~~~~~~~~~~~~~~~~~~\n",
            "Name:  None\n",
            "Dept:  Electronics\n",
            "Age:  21\n",
            "student\n",
            "~~~~~~~~~~~~~~~~~~~~~~~~~~~~~~\n",
            "Name:  None\n",
            "Dept:  CS\n",
            "Age:  None\n",
            "student\n",
            "~~~~~~~~~~~~~~~~~~~~~~~~~~~~~~\n"
          ]
        }
      ]
    },
    {
      "cell_type": "code",
      "source": [
        "def digitSum(n):\n",
        "    dsum = 0\n",
        "    for ele in str(n):\n",
        "        dsum += int(ele)\n",
        "    return dsum\n",
        " \n",
        "List = [367, 111, 562, 945, 6726, 873, 525, 511, 942, 999]\n",
        "# finding sum of digits, of odd numbers in List\n",
        "newList = [digitSum(i) if i & 1 else \"even\" for i in List]\n",
        " \n",
        "summing_odds = dict(zip(List, newList))\n",
        "print(\"No\", \"Sum\")\n",
        "for x in summing_odds:\n",
        "  print(x, summing_odds[x])"
      ],
      "metadata": {
        "colab": {
          "base_uri": "https://localhost:8080/"
        },
        "id": "XcGOwcek19Dm",
        "outputId": "2886a3c5-ed1f-44f8-9af7-1d058fa8dec7"
      },
      "execution_count": 29,
      "outputs": [
        {
          "output_type": "stream",
          "name": "stdout",
          "text": [
            "No Sum\n",
            "367 16\n",
            "111 3\n",
            "562 even\n",
            "945 18\n",
            "6726 even\n",
            "873 18\n",
            "525 12\n",
            "511 7\n",
            "942 even\n",
            "999 27\n"
          ]
        }
      ]
    },
    {
      "cell_type": "code",
      "source": [
        "def myFun(*args):\n",
        "  print(args) \n",
        "myFun({1:\"one\", 2:\"two\", 3:\"three\"})\n",
        "myFun(1,2,3,4,5,6,7,8)\n",
        "print(\"google colab OR jupyter\")\n",
        "print(\"~\"*30)\n",
        "\n",
        "def Add(*args):\n",
        "  print(\"Addition: \", end=\" \")\n",
        "  print([x for x in args], end=\" \")\n",
        "  print(\"=\",sum(args))\n",
        "\n",
        "Add(2,3,4,5)\n",
        "Add(9,8,7)\n",
        "\n",
        "def Multiply(*args):\n",
        "  print(\"Multilication: \", end=\" \")\n",
        "  print([x for x in args], end=\" \")\n",
        "  print(\"=\",end=\"\")\n",
        "  product = 1\n",
        "  for x in args:\n",
        "    product*=x\n",
        "  print(product)\n",
        "\n",
        "Multiply(2,5,7,9)\n",
        "Multiply(11,22,33)"
      ],
      "metadata": {
        "colab": {
          "base_uri": "https://localhost:8080/"
        },
        "id": "QgcEn2p144Hd",
        "outputId": "c71e49c2-231c-4d14-fe2b-f1b06ca1efae"
      },
      "execution_count": 59,
      "outputs": [
        {
          "output_type": "stream",
          "name": "stdout",
          "text": [
            "({1: 'one', 2: 'two', 3: 'three'},)\n",
            "(1, 2, 3, 4, 5, 6, 7, 8)\n",
            "google colab OR jupyter\n",
            "~~~~~~~~~~~~~~~~~~~~~~~~~~~~~~\n",
            "Addition:  [2, 3, 4, 5] = 14\n",
            "Addition:  [9, 8, 7] = 24\n",
            "Multilication:  [2, 5, 7, 9] =630\n",
            "Multilication:  [11, 22, 33] =7986\n"
          ]
        }
      ]
    },
    {
      "cell_type": "code",
      "source": [
        "# gives a dictionary of arbitrary length\n",
        "def personal_details(**kwargs):\n",
        "  # print(args)\n",
        "  print(\"Name: \",kwargs['name'])\n",
        "  print(\"Age: \", kwargs['age'])\n",
        "\n",
        "personal_details(name=\"Shubham\", age=20)"
      ],
      "metadata": {
        "colab": {
          "base_uri": "https://localhost:8080/"
        },
        "id": "oXYJparf7dS0",
        "outputId": "c6982b24-32b8-41f2-ccf4-e91475dd5ead"
      },
      "execution_count": 68,
      "outputs": [
        {
          "output_type": "stream",
          "name": "stdout",
          "text": [
            "Name:  Shubham\n",
            "Age:  20\n"
          ]
        }
      ]
    },
    {
      "cell_type": "code",
      "source": [
        "def func(*args, **kwargs):\n",
        "  # print(*args)\n",
        "  # print(kwargs)\n",
        "  inventory = list(kwargs.values())\n",
        "  item_names = list(kwargs.keys())\n",
        "  # print(inventory)\n",
        "  for x in range(len(args)):\n",
        "    # print(args[x], inventory[x])\n",
        "    print(\"Order query:\\nName = {}, Quantity= {}, Amount={}$, Total={}$\".format(item_names[x], args[x],inventory[x], args[x]*inventory[x]))\n",
        "    print()\n",
        "\n",
        "# quantities = [10,15,20]\n",
        "# items = {\"Smartphone\":2000, \"Laptop\":1000, \"Desktop\":1500}\n",
        "# func(quantities, items)\n",
        "func(10,15,20,25,Smartphone=2000, Laptop=1000, Desktop=1500,Smartwatch=500)"
      ],
      "metadata": {
        "colab": {
          "base_uri": "https://localhost:8080/"
        },
        "id": "BtwcTx4LEFcQ",
        "outputId": "ffb59ecf-9709-4ae6-aa75-2420050321f3"
      },
      "execution_count": 93,
      "outputs": [
        {
          "output_type": "stream",
          "name": "stdout",
          "text": [
            "Order query:\n",
            "Name = Smartphone, Quantity= 10, Amount=2000$, Total=20000$\n",
            "\n",
            "Order query:\n",
            "Name = Laptop, Quantity= 15, Amount=1000$, Total=15000$\n",
            "\n",
            "Order query:\n",
            "Name = Desktop, Quantity= 20, Amount=1500$, Total=30000$\n",
            "\n",
            "Order query:\n",
            "Name = Smartwatch, Quantity= 25, Amount=500$, Total=12500$\n",
            "\n"
          ]
        }
      ]
    },
    {
      "cell_type": "markdown",
      "source": [
        "map, reduce, filter, lambda functions."
      ],
      "metadata": {
        "id": "fC_U32F7IzP_"
      }
    },
    {
      "cell_type": "code",
      "source": [
        "# Syntax : map(fun, iter)\n",
        "# fun : It is a function to which map passes each element of \n",
        "#       given iterable.\n",
        "# iter : It is a iterable which is to be mapped.\n",
        "\n",
        "def square(num):\n",
        "    return num**2\n",
        "\n",
        "my_nums = [1,2,3,4,5]\n",
        "\n",
        "for item in map(square, my_nums):\n",
        "    print(item)\n",
        "\n",
        "print(list(map(square, my_nums)))\n",
        "\n",
        "#mapping length of words with word\n",
        "def myfunc(n):\n",
        "  return len(n)\n",
        "  \n",
        "words = ('ckdbxjhcdbkfj', 'asfsfaf', 'cherdgsjysdiubadry')\n",
        "x = list(map(myfunc, words))\n",
        "x = dict(zip(words, x))\n",
        "print(x)"
      ],
      "metadata": {
        "colab": {
          "base_uri": "https://localhost:8080/"
        },
        "id": "-HQVHE6xI2mJ",
        "outputId": "7fed0290-78a7-4089-8420-0e1765179c23"
      },
      "execution_count": 103,
      "outputs": [
        {
          "output_type": "stream",
          "name": "stdout",
          "text": [
            "1\n",
            "4\n",
            "9\n",
            "16\n",
            "25\n",
            "[1, 4, 9, 16, 25]\n",
            "{'ckdbxjhcdbkfj': 13, 'asfsfaf': 7, 'cherdgsjysdiubadry': 18}\n"
          ]
        }
      ]
    },
    {
      "cell_type": "code",
      "source": [
        "#  reduce(fun,seq) function is used to apply a particular \n",
        "#  function passed in its argument to \n",
        "#  all of the list elements mentioned in the sequence passed along\n",
        "\n",
        "import functools\n",
        "# importing operator for operator functions\n",
        "import operator\n",
        " \n",
        "lis = [1, 3, 5, 6, 2, 9]\n",
        " \n",
        "# using reduce to compute sum of list\n",
        "print(\"The sum of the list elements is : \", end=\"\")\n",
        "print(functools.reduce(lambda a, b: a+b, lis))\n",
        "print(\"The product of the list elements is : \", end=\"\")\n",
        "print(functools.reduce(operator.mul, lis))\n",
        " \n",
        "# using reduce to compute maximum element from list\n",
        "print(\"The maximum element of the list is : \", end=\"\")\n",
        "print(functools.reduce(lambda a, b: a if a > b else b, lis))"
      ],
      "metadata": {
        "colab": {
          "base_uri": "https://localhost:8080/"
        },
        "id": "0cb9dXaFSzbX",
        "outputId": "9ec5a676-9c73-40a0-ecd4-106774461f5f"
      },
      "execution_count": 139,
      "outputs": [
        {
          "output_type": "stream",
          "name": "stdout",
          "text": [
            "The sum of the list elements is : 26\n",
            "The product of the list elements is : 1620\n",
            "The maximum element of the list is : 9\n"
          ]
        }
      ]
    },
    {
      "cell_type": "code",
      "source": [
        "# syntax: filter(function, sequence)\n",
        "# filter() method filters the given sequence with the \n",
        "# help of a function that \n",
        "#tests each element in the sequence to be true or not.\n",
        "def func(x):\n",
        "  if x in 'aeiou':\n",
        "    return False\n",
        "  return True\n",
        "\n",
        "sentence = \"python has multiple libraries for various utilities\"\n",
        "#remove vowels from above sentence\n",
        "sentence = filter(func, sentence)\n",
        "for x in sentence:\n",
        "  print(x, end=\"\")\n"
      ],
      "metadata": {
        "colab": {
          "base_uri": "https://localhost:8080/"
        },
        "id": "UQFf1D9XK25W",
        "outputId": "b54f0a38-9495-4d5d-c7d8-67eedd838417"
      },
      "execution_count": 116,
      "outputs": [
        {
          "output_type": "stream",
          "name": "stdout",
          "text": [
            "pythn hs mltpl lbrrs fr vrs tlts"
          ]
        }
      ]
    },
    {
      "cell_type": "code",
      "source": [
        "# lambda function\n",
        "# It is an anonymous function means that a function is without a name.\n",
        "# syntax : lambda arguments: expression\n",
        "\n",
        "# As we already know that def keyword is \n",
        "# used to define the normal functions and the lambda \n",
        "# keyword is used to create anonymous functions.\n",
        "\n",
        "# This function can have any number of arguments\n",
        "#  but only one expression, which is evaluated and returned.\n",
        "\n",
        "nums = [6,5,4,3,2,1]\n",
        "print(list(map(lambda n: n ** 2,nums)))\n",
        "\n",
        "listt = [lambda x=x: x*10 for x in range(1,11)]\n",
        "\n",
        "for x in listt:\n",
        "  print(x())\n",
        "\n",
        "#to filter people above 18 yrs\n",
        "ages = [13, 90, 17, 59, 21, 60, 45,17,44,20]\n",
        " \n",
        "adults = list(filter(lambda age: age>18, ages))\n",
        " \n",
        "print(adults)\n",
        "\n",
        "li = [5, 7, 22, 97, 54, 62, 77, 23, 73, 61]\n",
        " \n",
        "final_list = list(map(lambda x: x*2, li))\n",
        "print(final_list)"
      ],
      "metadata": {
        "colab": {
          "base_uri": "https://localhost:8080/"
        },
        "id": "s2zHra_KQK_V",
        "outputId": "a6aa6879-a3bc-4e73-d7ad-3afa2aa6aaef"
      },
      "execution_count": 137,
      "outputs": [
        {
          "output_type": "stream",
          "name": "stdout",
          "text": [
            "[36, 25, 16, 9, 4, 1]\n",
            "10\n",
            "20\n",
            "30\n",
            "40\n",
            "50\n",
            "60\n",
            "70\n",
            "80\n",
            "90\n",
            "100\n",
            "[90, 59, 21, 60, 45, 44, 20]\n",
            "[10, 14, 44, 194, 108, 124, 154, 46, 146, 122]\n"
          ]
        }
      ]
    }
  ]
}