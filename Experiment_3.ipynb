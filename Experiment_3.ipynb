{
  "nbformat": 4,
  "nbformat_minor": 0,
  "metadata": {
    "colab": {
      "name": "Experiment_3.ipynb",
      "provenance": [],
      "authorship_tag": "ABX9TyNVIhbZwXHbwOKvtiuA3fca",
      "include_colab_link": true
    },
    "kernelspec": {
      "name": "python3",
      "display_name": "Python 3"
    },
    "language_info": {
      "name": "python"
    }
  },
  "cells": [
    {
      "cell_type": "markdown",
      "metadata": {
        "id": "view-in-github",
        "colab_type": "text"
      },
      "source": [
        "<a href=\"https://colab.research.google.com/github/shubhamojha1/python-Experiments/blob/main/Experiment_3.ipynb\" target=\"_parent\"><img src=\"https://colab.research.google.com/assets/colab-badge.svg\" alt=\"Open In Colab\"/></a>"
      ]
    },
    {
      "cell_type": "markdown",
      "source": [
        "#####1. Create a person class having name and age, \n",
        "###### write instance method to show its age and name, \n",
        "###### static method to display \"welcome voting\", \n",
        "###### class method to count number of person reporting to pollbooth, \n",
        "###### instance method inform eligible for voting"
      ],
      "metadata": {
        "id": "CsF7ymQVYjKi"
      }
    },
    {
      "cell_type": "code",
      "source": [
        "#1. Create a person class having name and age, \n",
        "# write instance method to show its age and name, \n",
        "# static method to display \"welcome voting\", \n",
        "# class method to count number of person reporting to pollbooth, \n",
        "# instance method inform eligible for voting"
      ],
      "metadata": {
        "id": "be2lUKsmJWYP"
      },
      "execution_count": null,
      "outputs": []
    },
    {
      "cell_type": "code",
      "execution_count": 53,
      "metadata": {
        "id": "5hUo_VDWI4TL"
      },
      "outputs": [],
      "source": [
        "from datetime import datetime, date\n",
        "class Person:\n",
        "  count = 0\n",
        "  def __init__(self, name, age):\n",
        "    self.name = name\n",
        "    self.age = age\n",
        "    Person.count+=1\n",
        "\n",
        "  def __str__(self):\n",
        "    return f\"\\nNAME:{self.name}\\tAGE:{self.age}\\n\"\n",
        "\n",
        "  @classmethod\n",
        "  def getCount(cls):\n",
        "    return cls.count\n",
        "\n",
        "  @staticmethod\n",
        "  def welcome(self):\n",
        "    print(\"Welcome to Elections!\\nHappy Voting\")\n",
        "\n",
        "  def isEligible(self, age):\n",
        "    if(age>=18):\n",
        "      return True\n",
        "      # return \"Eligible!\"\n",
        "    else:\n",
        "      return False\n",
        "      # return \"Not Eligible!\"\n",
        "\n",
        "  def calculateAge(self, birthDate):\n",
        "    days_in_year = 365.2425   \n",
        "    age = int((date.today() - birthDate).days / days_in_year)\n",
        "    return age\n",
        "\n",
        "\n",
        "  def main(self):\n",
        "    name = input(\"Enter name: \")\n",
        "    dob = list(map(int, input(\"Enter DOB: \").split(\"-\")))\n",
        "    age = self.calculateAge(date(dob[2], dob[1], dob[0]))\n",
        "    p1 = Person(name, age)\n",
        "    print(p1)\n",
        "    # print(self.isEligible(age))\n",
        "    if(self.isEligible(age)):\n",
        "      print(\"Eligible!\")\n",
        "      print(self.welcome(self))\n",
        "    else:\n",
        "      print(\"Not Eligible!\")\n",
        "    print(\"COUNT\", self.getCount())\n",
        "    "
      ]
    },
    {
      "cell_type": "code",
      "source": [
        "for i in range(3):\n",
        "  obj = Person(\"\",0)\n",
        "  Person.count-=1\n",
        "  obj.main()"
      ],
      "metadata": {
        "colab": {
          "base_uri": "https://localhost:8080/"
        },
        "id": "8cHFRgjCKgfp",
        "outputId": "79b4d0a6-7a21-44c3-c8ae-451d5c28e149"
      },
      "execution_count": 54,
      "outputs": [
        {
          "output_type": "stream",
          "name": "stdout",
          "text": [
            "Enter name: safs\n",
            "Enter DOB: 21-02-2001\n",
            "\n",
            "NAME:safs\tAGE:21\n",
            "\n",
            "Eligible!\n",
            "Welcome to Elections!\n",
            "Happy Voting\n",
            "None\n",
            "COUNT 1\n",
            "Enter name: sanj\n",
            "Enter DOB: 23-09-2007\n",
            "\n",
            "NAME:sanj\tAGE:14\n",
            "\n",
            "Not Eligible!\n",
            "COUNT 2\n",
            "Enter name: asajn\n",
            "Enter DOB: 09-09-2000\n",
            "\n",
            "NAME:asajn\tAGE:21\n",
            "\n",
            "Eligible!\n",
            "Welcome to Elections!\n",
            "Happy Voting\n",
            "None\n",
            "COUNT 3\n"
          ]
        }
      ]
    },
    {
      "cell_type": "markdown",
      "source": [
        "MATRIX OPERATIONS"
      ],
      "metadata": {
        "id": "18Wlt9RSYvX9"
      }
    },
    {
      "cell_type": "code",
      "source": [
        "class Matrix:\n",
        "\n",
        "    def __init__(self, row, col, val=None):\n",
        "        self.row = row\n",
        "        self.col = col\n",
        "        self.matrix = []\n",
        "        for i in range(row):\n",
        "            c = [val] * col #[x]* i ... returns a list having x, i number of times\n",
        "            self.matrix.append(c)\n",
        "            \n",
        "\n",
        "    def size(self):\n",
        "        return self.row, self.col\n",
        "\n",
        "    def get_cell(self, i, j):\n",
        "        self.check_index(i, j)\n",
        "        return self.matrix[i][j]\n",
        "\n",
        "    def matrix_set(self, i, j, val):\n",
        "        self.check_index(i, j)\n",
        "        self.matrix[i][j] = val\n",
        "\n",
        "    def __str__(self):\n",
        "        s = ''\n",
        "        for i in range(self.row):\n",
        "            s += str(self.matrix[i])\n",
        "            s += '\\n'\n",
        "        return s\n",
        "\n",
        "    def check_index(self, i, j):\n",
        "        if not (0 <= i < self.row) or not (0 <= j < self.col):\n",
        "            raise IndexError(\"matrix index out of range\")\n",
        "\n",
        "\n",
        "    def __add__(self,mat2):\n",
        "      result = Matrix(self.row,self.col,0)\n",
        "\n",
        "      for i in range(self.row):\n",
        "        for j in range(self.col):\n",
        "          result.matrix[i][j] = self.matrix[i][j] + mat2.matrix[i][j]\n",
        "      \n",
        "      return result\n",
        "\n",
        "    def __sub__(self, mat2):\n",
        "      result = Matrix(self.row,self.col,0)\n",
        "\n",
        "      for i in range(self.row):\n",
        "        for j in range(self.col):\n",
        "          result.matrix[i][j] = self.matrix[i][j] - mat2.matrix[i][j]\n",
        "      \n",
        "      return result\n",
        "\n",
        "    def __mul__(self,mat2):\n",
        "        if self.col!=mat2.row:\n",
        "            return \"Not possible!\"\n",
        "        result = Matrix(mat2.row,mat2.col,0)\n",
        "        for i in range(self.row):\n",
        "            for j in range(mat2.col):\n",
        "                for k in range(mat2.row):\n",
        "                    result.matrix[i][j] = self.matrix[i][k] * mat2.matrix[k][j]\n",
        "                    # print(result.matrix[i][j])\n",
        "        return result"
      ],
      "metadata": {
        "id": "9g7sQv5aLWSB"
      },
      "execution_count": 71,
      "outputs": []
    },
    {
      "cell_type": "code",
      "source": [
        "x = Matrix(3, 3, 1)\n",
        "y = Matrix(3, 3, 2)\n",
        "print(x)\n",
        "print(y)\n",
        "print(x+y)\n",
        "print(x-y)\n",
        "print(x*y)"
      ],
      "metadata": {
        "colab": {
          "base_uri": "https://localhost:8080/"
        },
        "id": "AnWsdA74OSEr",
        "outputId": "b2e6c4c9-3fae-452c-884f-fae9a37c19ad"
      },
      "execution_count": 72,
      "outputs": [
        {
          "output_type": "stream",
          "name": "stdout",
          "text": [
            "[1, 1, 1]\n",
            "[1, 1, 1]\n",
            "[1, 1, 1]\n",
            "\n",
            "[2, 2, 2]\n",
            "[2, 2, 2]\n",
            "[2, 2, 2]\n",
            "\n",
            "[3, 3, 3]\n",
            "[3, 3, 3]\n",
            "[3, 3, 3]\n",
            "\n",
            "[-1, -1, -1]\n",
            "[-1, -1, -1]\n",
            "[-1, -1, -1]\n",
            "\n",
            "[2, 2, 2]\n",
            "[2, 2, 2]\n",
            "[2, 2, 2]\n",
            "\n"
          ]
        }
      ]
    },
    {
      "cell_type": "markdown",
      "source": [
        "Formal description of the Euclidean algorithm\n",
        "\n",
        "\n",
        "Input Two positive integers, m and n.\n",
        "\n",
        "Output The greatest common divisor, g, of m and n.\n",
        "\n",
        "1. If m<n, exchange m and n.\n",
        "2. Divide m by n and get the remainder, r. If r=0, report n as the GCD of m and n else Replace m by n and replace n by r. Return to the previous step."
      ],
      "metadata": {
        "id": "TOciNcZfY4tG"
      }
    },
    {
      "cell_type": "code",
      "source": [
        "def gcd(m, n):\n",
        "  while m % n != 0:\n",
        "    r = m % n  #12\n",
        "    m = n; #18\n",
        "    n = r #12\n",
        "  return n"
      ],
      "metadata": {
        "id": "0DyUKPxfY6S-"
      },
      "execution_count": 74,
      "outputs": []
    },
    {
      "cell_type": "code",
      "source": [
        "gcd(84,18)"
      ],
      "metadata": {
        "colab": {
          "base_uri": "https://localhost:8080/"
        },
        "id": "AcJ4G8WWY9bn",
        "outputId": "ff704b38-07a0-4847-a539-9fd0358673c6"
      },
      "execution_count": 75,
      "outputs": [
        {
          "output_type": "execute_result",
          "data": {
            "text/plain": [
              "6"
            ]
          },
          "metadata": {},
          "execution_count": 75
        }
      ]
    },
    {
      "cell_type": "markdown",
      "source": [
        "A fraction such as 3/5 consists of two parts. The top value, known as the numerator, can be any integer. The bottom value, called the denominator, can be any integer greater than 0 (negative fractions have a negative numerator)."
      ],
      "metadata": {
        "id": "LKI_rkDLZIhm"
      }
    },
    {
      "cell_type": "code",
      "source": [
        "class Fraction:\n",
        "  def __init__(self, top, bottom):\n",
        "    self.num = top\n",
        "    self.den = bottom\n",
        "    \n",
        "  def __str__(self):\n",
        "    return str(self.num) + \"/\" + str(self.den)\n",
        "  \n",
        " # def show(self):\n",
        "  #  print(self.num, \"/\", self.den)\n",
        "    \n",
        "  def __add__(self, other_fraction):\n",
        "    result = Fraction(None,None)\n",
        "    result.num= self.num * other_fraction.den + self.den * other_fraction.num\n",
        "    result.den = self.den * other_fraction.den\n",
        "    common = gcd(result.num, result.den)\n",
        "    result.num = result.num // common #integer division\n",
        "    result.den = result.den // common #integer division\n",
        "    return result\n",
        "\n",
        "  def __sub__(self, other_fraction):\n",
        "    new_num = self.num * other_fraction.den - self.den * other_fraction.num\n",
        "    new_den = self.den * other_fraction.den\n",
        "    common = gcd(new_num, new_den)\n",
        "    return Fraction(new_num // common, new_den // common)\n",
        "  \n",
        "  def __mul__(self, other_fraction):\n",
        "    new_num = self.num * other_fraction.num\n",
        "    new_den = self.den * other_fraction.den\n",
        "    common = gcd(new_num, new_den)\n",
        "    return Fraction(new_num // common, new_den // common)\n",
        "\n",
        "  def __truediv__(self, other_fraction):\n",
        "    new_num = self.num * other_fraction.den\n",
        "    new_den = self.den * other_fraction.num\n",
        "    common = gcd(new_num, new_den)\n",
        "    return Fraction(new_num // common, new_den // common)\n",
        "  \n",
        "  def __eq__(self, other):\n",
        "    first_num = self.num * other.den\n",
        "    second_num = other.num * self.den\n",
        "    return first_num == second_num\n"
      ],
      "metadata": {
        "id": "JNX2MkyRZJ8_"
      },
      "execution_count": 78,
      "outputs": []
    },
    {
      "cell_type": "code",
      "source": [
        "x = Fraction(4, 2)\n",
        "y = Fraction(1, 2)\n",
        "print(x + y)\n",
        "print(x - y)\n",
        "print(x * y)\n",
        "print(x / y)"
      ],
      "metadata": {
        "colab": {
          "base_uri": "https://localhost:8080/"
        },
        "id": "C2xzC1O3ZRSz",
        "outputId": "376a9836-ef06-4304-8daf-635b5bb4676e"
      },
      "execution_count": 79,
      "outputs": [
        {
          "output_type": "stream",
          "name": "stdout",
          "text": [
            "5/2\n",
            "3/2\n",
            "1/1\n",
            "4/1\n"
          ]
        }
      ]
    },
    {
      "cell_type": "code",
      "source": [
        "import math\n",
        "class Point:\n",
        "  def __init__(self,x,y):\n",
        "    self.x = x\n",
        "    self.y = y\n",
        "\n",
        "  def show(self):\n",
        "    return f\"{(self.x,self.y)}\"\n",
        "\n",
        "  def move(self,a,b):\n",
        "    self.x += a\n",
        "    self.y += b\n",
        "\n",
        "  def dist(self,pt):\n",
        "    dx = self.x - pt.x\n",
        "    dy = self.y - pt.y\n",
        "    return math.sqrt(dx**2+dy**2)"
      ],
      "metadata": {
        "id": "KoNzOEDhZfjp"
      },
      "execution_count": 80,
      "outputs": []
    },
    {
      "cell_type": "code",
      "source": [
        "p1 = Point(2,3)\n",
        "p2 = Point(1,2)\n",
        "p1.show(), p2.show()\n",
        "p1.move(20,-30)\n",
        "p1.show(), p2.show()"
      ],
      "metadata": {
        "colab": {
          "base_uri": "https://localhost:8080/"
        },
        "id": "a1-LbEg8eAe-",
        "outputId": "ff706155-5c71-48ce-dc43-d695cfe7303c"
      },
      "execution_count": 83,
      "outputs": [
        {
          "output_type": "execute_result",
          "data": {
            "text/plain": [
              "('(22, -27)', '(1, 2)')"
            ]
          },
          "metadata": {},
          "execution_count": 83
        }
      ]
    },
    {
      "cell_type": "markdown",
      "source": [
        "4. Write a Rectangle class in Python language, allowing you to build a rectangle with length and width attributes.\n",
        "Create a Perimeter() method to calculate the perimeter of the rectangle and a Area() method to calculate the area of ​​the rectangle.\n",
        "Create a method display() that display the length, width, perimeter and area of an object created using an instantiation on rectangle class.\n",
        "Create a Parallelepipede child class inheriting from the Rectangle class and with a height attribute and another Volume() method to calculate the volume of the Parallelepiped."
      ],
      "metadata": {
        "id": "W88smErfefZl"
      }
    },
    {
      "cell_type": "code",
      "source": [
        "class Rectangle():\n",
        "    length=0\n",
        "    width=0\n",
        "    def __init__(self,length,width):\n",
        "        self.length = length\n",
        "        self.width  = width\n",
        "        \n",
        "    def Perimeter(self):\n",
        "        return 2*(self.length+self.width)\n",
        "    def Area(self):\n",
        "        return self.length*self.width\n",
        "    def display(self):\n",
        "        print(f\"Length is {self.length} , Width is {self.width}\")\n",
        "        print(f\"Perimeter is {self.Perimeter()} , Area is {self.Area()}\")\n",
        "\n",
        "        \n",
        "class Parallelepipede(Rectangle):\n",
        "    height = 0\n",
        "    def __init__(self,length,width,height):\n",
        "        self.length = length\n",
        "        self.width  = width\n",
        "        self.height = height\n",
        "    def Volume(self):\n",
        "        return self.length*self.width*self.height "
      ],
      "metadata": {
        "id": "Rolht9faegn7"
      },
      "execution_count": 84,
      "outputs": []
    },
    {
      "cell_type": "code",
      "source": [
        "r1 = Rectangle(5,5)\n",
        "r1.display()\n",
        "# r1.Area()\n",
        "# r1.Perimeter()"
      ],
      "metadata": {
        "colab": {
          "base_uri": "https://localhost:8080/"
        },
        "id": "o5LqaYpVeopk",
        "outputId": "6db2a622-9f5e-401d-8355-ca08459c1494"
      },
      "execution_count": 88,
      "outputs": [
        {
          "output_type": "stream",
          "name": "stdout",
          "text": [
            "Length is 5 , Width is 5\n",
            "Perimeter is 20 , Area is 25\n"
          ]
        }
      ]
    },
    {
      "cell_type": "code",
      "source": [
        "p1 = Parallelepipede(5,5,5)\n",
        "p1.Volume()"
      ],
      "metadata": {
        "colab": {
          "base_uri": "https://localhost:8080/"
        },
        "id": "gkGYU5eRepHG",
        "outputId": "e3acf759-d45c-4eb5-8863-4a64262c56f7"
      },
      "execution_count": 90,
      "outputs": [
        {
          "output_type": "execute_result",
          "data": {
            "text/plain": [
              "125"
            ]
          },
          "metadata": {},
          "execution_count": 90
        }
      ]
    },
    {
      "cell_type": "markdown",
      "source": [
        "5. Define a Circle class allowing to create a circleC (O, r) with center O(a, b)and radius r using the constructor:\n",
        "    def __init__(self,a,b,r):         \n",
        "        self.a = a         \n",
        "        self.b = b         \n",
        "        self.r = r\n",
        "Define a Area() method of the class which calculates the area of ​​the circle.\n",
        "Define a Perimeter() method of the class which allows you to calculate the perimeter of the circle.\n",
        "Define a test() method of the class which allows to test whether a point A(x, y) belongs to the circle C(O, r) or not, or inside or outside\n",
        "\n",
        "Note: Find the distance between the center of the circle and the points given. If the distance between them is less than the radius then the point is inside the circle. if the distance between them is equal to the radius of the circle then the point is on the circumference of the circle."
      ],
      "metadata": {
        "id": "Z32L03SKfR5E"
      }
    },
    {
      "cell_type": "code",
      "source": [
        "class Circle():\n",
        "    a = 0\n",
        "    b = 0\n",
        "    r = 0\n",
        "    def __init__(self,a,b,r):\n",
        "        self.a = a\n",
        "        self.b = b \n",
        "        self.r = r\n",
        "    def perimeter(self):\n",
        "        return 2*3.14*self.r\n",
        "    def area(self):\n",
        "        return 3.14*self.r*self.r\n",
        "    def test(self,a,b):\n",
        "        d = ((b-self.b)**2 + (a-self.a)**2)**0.5\n",
        "        if d > self.r:\n",
        "            return False\n",
        "        else:\n",
        "            return True"
      ],
      "metadata": {
        "id": "DQnh8fIofScY"
      },
      "execution_count": 91,
      "outputs": []
    },
    {
      "cell_type": "code",
      "source": [
        "c1 = Circle(0,0,5)\n",
        "print(c1.perimeter(),c1.area())"
      ],
      "metadata": {
        "colab": {
          "base_uri": "https://localhost:8080/"
        },
        "id": "3X6wAkCUfU6n",
        "outputId": "284cd142-77f1-44a9-9d99-8cad7b2099ab"
      },
      "execution_count": 92,
      "outputs": [
        {
          "output_type": "stream",
          "name": "stdout",
          "text": [
            "31.400000000000002 78.5\n"
          ]
        }
      ]
    },
    {
      "cell_type": "code",
      "source": [
        "c1.test(6,6),c1.test(2,3)"
      ],
      "metadata": {
        "colab": {
          "base_uri": "https://localhost:8080/"
        },
        "id": "d29gYg6afYuL",
        "outputId": "ae4aec69-fd53-489e-80f8-ec2dc5fee8f5"
      },
      "execution_count": 95,
      "outputs": [
        {
          "output_type": "execute_result",
          "data": {
            "text/plain": [
              "(False, True)"
            ]
          },
          "metadata": {},
          "execution_count": 95
        }
      ]
    },
    {
      "cell_type": "code",
      "source": [
        ""
      ],
      "metadata": {
        "id": "dsSKX49sfbaC"
      },
      "execution_count": null,
      "outputs": []
    }
  ]
}