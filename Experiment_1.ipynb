{
  "nbformat": 4,
  "nbformat_minor": 0,
  "metadata": {
    "colab": {
      "name": "Experiment-1.ipynb",
      "provenance": []
    },
    "kernelspec": {
      "name": "python3",
      "display_name": "Python 3"
    },
    "language_info": {
      "name": "python"
    }
  },
  "cells": [
    {
      "cell_type": "code",
      "execution_count": null,
      "metadata": {
        "colab": {
          "base_uri": "https://localhost:8080/"
        },
        "id": "gM8L1gtdKsc5",
        "outputId": "cc149060-d4f2-4968-fb94-b013fc56356c"
      },
      "outputs": [
        {
          "output_type": "stream",
          "name": "stdout",
          "text": [
            "<class 'str'>\n"
          ]
        },
        {
          "output_type": "execute_result",
          "data": {
            "text/plain": [
              "{float, int, str}"
            ]
          },
          "metadata": {},
          "execution_count": 2
        }
      ],
      "source": [
        "# type()\n",
        "x = 2\n",
        "y = \"python\"\n",
        "z = 3.14159265\n",
        "w = 'a'\n",
        "print(type(w))\n",
        "{type(x), type(y), type(z), type(w)}"
      ]
    },
    {
      "cell_type": "markdown",
      "source": [
        "#lists[ ]\n",
        "mutable, as elements can be modified, replaced and order can be changed"
      ],
      "metadata": {
        "id": "IKkzMo5KEl7v"
      }
    },
    {
      "cell_type": "code",
      "source": [
        "\n",
        "mylist = [\"apple\", \"banana\", \"cherry\"]\n",
        "print(len(mylist))\n",
        "print(type(mylist))\n",
        "\n",
        "#using list() to make a list\n",
        "mylist2 = list({1,2,3,\"a\",\"b\",\"c\"})\n",
        "print(type(mylist2), mylist2)\n",
        "\n",
        "#append() is used to add elements at the end of list\n",
        "for i in range(5): # range(5) = integers from 0 to 4\n",
        "  mylist2.append(i)\n",
        "\n",
        "print(\"\\nafter append() \\nmylist2- \", mylist2)\n",
        "\n",
        "#insert() is used to add elements at an arbitrary index \n",
        "# by giving index number as parameter\n",
        "\n",
        "mylist2.insert(2, \"python\")\n",
        "mylist2.insert(6, 3.1415)\n",
        "\n",
        "print(\"\\nafter insert() \\nmylist2- \", mylist2)\n",
        "\n",
        "#extend() is used to append a collection of elements at once\n",
        "# works for list, tuple and dictionaries\n",
        "list3 = [99,88,77,66]\n",
        "mylist2.extend(list3)\n",
        "\n",
        "print(\"\\nafter extend() \\nmylist2- \", mylist2)\n",
        "\n",
        "list3 = {'c','a', 'b'}\n",
        "mylist2.extend(list3)\n",
        "\n",
        "print(\"\\nafter extend() \\nmylist2- \", mylist2)"
      ],
      "metadata": {
        "colab": {
          "base_uri": "https://localhost:8080/"
        },
        "id": "UJGmWsWeRkQb",
        "outputId": "522bf118-eda3-4edb-f113-342a3175327c"
      },
      "execution_count": null,
      "outputs": [
        {
          "output_type": "stream",
          "name": "stdout",
          "text": [
            "3\n",
            "<class 'list'>\n",
            "<class 'list'> [1, 2, 3, 'b', 'a', 'c']\n",
            "\n",
            "after append() \n",
            "mylist2-  [1, 2, 3, 'b', 'a', 'c', 0, 1, 2, 3, 4]\n",
            "\n",
            "after insert() \n",
            "mylist2-  [1, 2, 'python', 3, 'b', 'a', 3.1415, 'c', 0, 1, 2, 3, 4]\n",
            "\n",
            "after extend() \n",
            "mylist2-  [1, 2, 'python', 3, 'b', 'a', 3.1415, 'c', 0, 1, 2, 3, 4, 99, 88, 77, 66]\n",
            "\n",
            "after extend() \n",
            "mylist2-  [1, 2, 'python', 3, 'b', 'a', 3.1415, 'c', 0, 1, 2, 3, 4, 99, 88, 77, 66, 'c', 'b', 'a']\n"
          ]
        }
      ]
    },
    {
      "cell_type": "code",
      "source": [
        "# list slicing and accessing of elements\n",
        "# elements can be accessed by simple indexing\n",
        "print(mylist2[2])\n",
        "\n",
        "# negative indices start from the end of the list\n",
        "print(mylist2[-5])\n",
        "print()\n",
        "#list slicing\n",
        "print(mylist2[3:]) # index 3 till end\n",
        "print(mylist2[:8]) # start till index 8\n",
        "print(mylist2[:-7]) # print elements, from the start\n",
        "print(mylist2[3:13]) # print elements from start index, till end index\n",
        "print(mylist2[3:10:2]) # same as above, but with interval of 2\n",
        "print(mylist2[10:1:-2]) # negative interval works only with start index > end index\n",
        "print(mylist2[::]) # print entire list\n",
        "print(mylist2[::-1]) # print reversed list"
      ],
      "metadata": {
        "colab": {
          "base_uri": "https://localhost:8080/"
        },
        "id": "WVTE6nh5SycU",
        "outputId": "dea08583-6f43-4eff-969e-b6970b5e6c94"
      },
      "execution_count": null,
      "outputs": [
        {
          "output_type": "stream",
          "name": "stdout",
          "text": [
            "b\n",
            "77\n",
            "\n",
            "[3.1415, 'c', 0, 2, 4, 99, 88, 77, 66, 'c', 'b', 'a']\n",
            "[2, 'python', 'b', 3.1415, 'c', 0, 2, 4]\n",
            "[2, 'python', 'b', 3.1415, 'c', 0, 2, 4]\n",
            "[3.1415, 'c', 0, 2, 4, 99, 88, 77, 66, 'c']\n",
            "[3.1415, 0, 4, 88]\n",
            "[77, 99, 2, 'c', 'b']\n",
            "[2, 'python', 'b', 3.1415, 'c', 0, 2, 4, 99, 88, 77, 66, 'c', 'b', 'a']\n",
            "['a', 'b', 'c', 66, 77, 88, 99, 4, 2, 0, 'c', 3.1415, 'b', 'python', 2]\n"
          ]
        }
      ]
    },
    {
      "cell_type": "code",
      "source": [
        "# one-line expression to create a list\n",
        "\n",
        "odd_square = [x**2 for x in range(1,20) if x % 2!=0]\n",
        "print(odd_square)"
      ],
      "metadata": {
        "colab": {
          "base_uri": "https://localhost:8080/"
        },
        "id": "0Y3g8TeLZEib",
        "outputId": "4cb0a27a-f614-46b2-e358-f3163f0fd1a6"
      },
      "execution_count": null,
      "outputs": [
        {
          "output_type": "stream",
          "name": "stdout",
          "text": [
            "[1, 9, 25, 49, 81, 121, 169, 225, 289, 361]\n"
          ]
        }
      ]
    },
    {
      "cell_type": "code",
      "source": [
        "# removing elements remove(), pop()\n",
        "\n",
        "# remove(), removes element specified even duplicates\n",
        "# print(mylist2.remove(1)) # no return type\n",
        "# print(mylist2.remove(3))\n",
        "print(mylist2)\n",
        "\n",
        "#pop(), removes and returns last element from list, unless index specified\n",
        "mylist2.pop(3)"
      ],
      "metadata": {
        "colab": {
          "base_uri": "https://localhost:8080/",
          "height": 54
        },
        "id": "LKgjWibRZ20D",
        "outputId": "9ff8f872-a2af-406c-f1f1-6ded8dac9812"
      },
      "execution_count": null,
      "outputs": [
        {
          "output_type": "stream",
          "name": "stdout",
          "text": [
            "[2, 'python', 'b', 'a', 3.1415, 'c', 0, 2, 4, 99, 88, 77, 66, 'c', 'b', 'a']\n"
          ]
        },
        {
          "output_type": "execute_result",
          "data": {
            "application/vnd.google.colaboratory.intrinsic+json": {
              "type": "string"
            },
            "text/plain": [
              "'a'"
            ]
          },
          "metadata": {},
          "execution_count": 47
        }
      ]
    },
    {
      "cell_type": "code",
      "source": [
        "numbers = [53,51,68,1,62,79,11,70,25,41,11,99]\n",
        "numbers.sort()\n",
        "print(numbers)\n",
        "print(sum(numbers))\n",
        "numbers.reverse()\n",
        "print(numbers)\n",
        "\n",
        "# to create a list with same elements with, * followed by number of elements\n",
        "listnew = [1]*4\n",
        "print(listnew)"
      ],
      "metadata": {
        "colab": {
          "base_uri": "https://localhost:8080/"
        },
        "id": "duXgMWPpbruF",
        "outputId": "572075dd-5db1-40c7-a4b9-9333799fa896"
      },
      "execution_count": null,
      "outputs": [
        {
          "output_type": "stream",
          "name": "stdout",
          "text": [
            "[1, 11, 11, 25, 41, 51, 53, 62, 68, 70, 79, 99]\n",
            "571\n",
            "[99, 79, 70, 68, 62, 53, 51, 41, 25, 11, 11, 1]\n",
            "[1, 1, 1, 1]\n"
          ]
        }
      ]
    },
    {
      "cell_type": "markdown",
      "source": [
        "# Tuples ( )\n",
        "\n",
        "Similar to lists, but tuples are immmutable"
      ],
      "metadata": {
        "id": "XIrMVODDdAma"
      }
    },
    {
      "cell_type": "code",
      "source": [
        "tuple1 = (1,2,3,4)\n",
        "tuple2 = (\"a\", \"b\", \"c\")\n",
        "print(tuple1 + tuple2) # + for concatenating tuples\n",
        "print(len(tuple2))"
      ],
      "metadata": {
        "colab": {
          "base_uri": "https://localhost:8080/"
        },
        "id": "FOo8VjbHdLUK",
        "outputId": "f6b746d4-43c2-4386-cd9f-489f26e8ca3b"
      },
      "execution_count": null,
      "outputs": [
        {
          "output_type": "stream",
          "name": "stdout",
          "text": [
            "(1, 2, 3, 4, 'a', 'b', 'c')\n",
            "3\n"
          ]
        }
      ]
    },
    {
      "cell_type": "code",
      "source": [
        "# Immutable property of tuples\n",
        "try:\n",
        "  tuple1 = (0,1,2,3)\n",
        "  tuple1[2] = 'a'\n",
        "  print(tuple1)\n",
        "\n",
        "except TypeError as te:\n",
        "  print(te, \"\\nCant do that to tuples!\")"
      ],
      "metadata": {
        "colab": {
          "base_uri": "https://localhost:8080/"
        },
        "id": "5XKt16rReLwM",
        "outputId": "699e84eb-a3a9-4c7e-9042-d3d5f616d0a2"
      },
      "execution_count": null,
      "outputs": [
        {
          "output_type": "stream",
          "name": "stdout",
          "text": [
            "'tuple' object does not support item assignment \n",
            "Cant do that to tuples!\n"
          ]
        }
      ]
    },
    {
      "cell_type": "code",
      "source": [
        "#Slicing is similar as in lists\n",
        "\n",
        "print(tuple1[1:])\n",
        "print(tuple1[::-1])\n",
        "print(tuple1[2:4])"
      ],
      "metadata": {
        "colab": {
          "base_uri": "https://localhost:8080/"
        },
        "id": "HJkPb_qgewlc",
        "outputId": "a8abcc31-d800-467c-f3d5-1e103714be5f"
      },
      "execution_count": null,
      "outputs": [
        {
          "output_type": "stream",
          "name": "stdout",
          "text": [
            "(1, 2, 3)\n",
            "(3, 2, 1, 0)\n",
            "(2, 3)\n"
          ]
        }
      ]
    },
    {
      "cell_type": "code",
      "source": [
        "# del keyword \n",
        "try:\n",
        "  tuple3 = ( 0, 1)\n",
        "  del tuple3\n",
        "  print(tuple3)\n",
        "\n",
        "except NameError as e:\n",
        "  print(e)"
      ],
      "metadata": {
        "colab": {
          "base_uri": "https://localhost:8080/"
        },
        "id": "NUFzzhlle8LB",
        "outputId": "e290c944-d017-4fb1-9b86-1c55d5132f6f"
      },
      "execution_count": null,
      "outputs": [
        {
          "output_type": "stream",
          "name": "stdout",
          "text": [
            "name 'tuple3' is not defined\n"
          ]
        }
      ]
    },
    {
      "cell_type": "code",
      "source": [
        "#lists can be converted to tuple and vice versa\n",
        "\n",
        "list1 = [0, 1, 2]\n",
        "print(tuple(list1))\n",
        "\n",
        "#tuples can be converted to list\n",
        "tuple1 = (1,2,3,4,5)\n",
        "print(list(tuple1))"
      ],
      "metadata": {
        "colab": {
          "base_uri": "https://localhost:8080/"
        },
        "id": "yZBfglUHf_wI",
        "outputId": "6d931b42-71d5-436e-e2cf-c150bce4d480"
      },
      "execution_count": null,
      "outputs": [
        {
          "output_type": "stream",
          "name": "stdout",
          "text": [
            "(0, 1, 2)\n",
            "[1, 2, 3, 4, 5]\n",
            "(1, 2, 3, 4, 5)\n"
          ]
        }
      ]
    },
    {
      "cell_type": "code",
      "source": [
        "# other tuple features/functions similar to lists\n",
        "\n",
        "a = (7,3,1,9,3,9,1,0,4,5,2,3,6)\n",
        "print(a.count(9))\n",
        "print(a.index(3))\n",
        "print(a)"
      ],
      "metadata": {
        "colab": {
          "base_uri": "https://localhost:8080/"
        },
        "id": "3jKvEMc5FOTw",
        "outputId": "320979e1-ff99-4447-edd2-555e5817b5a9"
      },
      "execution_count": 14,
      "outputs": [
        {
          "output_type": "stream",
          "name": "stdout",
          "text": [
            "2\n",
            "1\n",
            "(7, 3, 1, 9, 3, 9, 1, 0, 4, 5, 2, 3, 6)\n"
          ]
        }
      ]
    },
    {
      "cell_type": "markdown",
      "source": [
        "# Dictionary { }\n",
        "Simpler version of a hash-table, (key,value) pair can each be of any type, and there is a sequential order "
      ],
      "metadata": {
        "id": "sAdUD7AVHjtE"
      }
    },
    {
      "cell_type": "code",
      "source": [
        "dict1 = {\n",
        "    1:\"python\",\n",
        "    2:\"is\",\n",
        "    3:\"fun\",\n",
        "    4:[1,2,3,4,5],\n",
        "    5:(9,8,7,6,5),\n",
        "    6:{\n",
        "        \"x\":1,\n",
        "        \"y\":2,\n",
        "        \"z\":3\n",
        "    },\n",
        "    \"hi\":\"hello\"\n",
        "}\n",
        "\n",
        "print(dict1[\"hi\"])"
      ],
      "metadata": {
        "colab": {
          "base_uri": "https://localhost:8080/"
        },
        "id": "HorKFT_QH_do",
        "outputId": "f6d2ed5f-be95-49cb-8f50-69eba0a2fc8d"
      },
      "execution_count": 16,
      "outputs": [
        {
          "output_type": "stream",
          "name": "stdout",
          "text": [
            "hello\n"
          ]
        }
      ]
    },
    {
      "cell_type": "code",
      "source": [
        "# functions for dictionary\n",
        "\n",
        "#copy()\n",
        "dict2 = dict1.copy()\n",
        "print(dict2)\n",
        "print(\"~~~~~~~~~~~~~~~~~~~~~~~~~~~\")\n",
        "#create a custom dictionary, with same value for different keys\n",
        "x = ['key1', 'key2', 'key3'] \n",
        "y = [0,1]\n",
        "thisdict = dict.fromkeys(x, y)\n",
        "print(thisdict)\n",
        "print(\"~~~~~~~~~~~~~~~~~~~~~~~~~~~\")\n",
        "#get() method gives a value for corresponding key\n",
        "print(dict2.get(6))\n",
        "print(\"~~~~~~~~~~~~~~~~~~~~~~~~~~~\")\n",
        "#items() returns a list containing a tuple for each key value pair\n",
        "print(dict2.items())\n",
        "print(thisdict.items())\n",
        "print(\"~~~~~~~~~~~~~~~~~~~~~~~~~~~\")\n",
        "#keys() returns a list containing the dictionary's keys\n",
        "print(dict2.keys())\n",
        "print(thisdict.keys())\n",
        "print(\"~~~~~~~~~~~~~~~~~~~~~~~~~~~\")\n",
        "#pop() removes the element with the specified key\n",
        "print(dict2.pop(5))\n",
        "print(thisdict.pop('key2'))\n",
        "print(\"~~~~~~~~~~~~~~~~~~~~~~~~~~~\")\n",
        "#popitem() removes the last inserted key-value pair\n",
        "print(dict2.popitem())\n",
        "print(thisdict.popitem())\n",
        "print(\"~~~~~~~~~~~~~~~~~~~~~~~~~~~\")\n",
        "#update() updates the dictionary with the specified key-value pairs\n",
        "dict2.update({2:[2,4,6,8]})\n",
        "thisdict.update({1:'new'})\n",
        "print(dict2)\n",
        "print(thisdict)\n",
        "#values() returns a list of all the values in the dictionary\n",
        "print(dict2.values())\n",
        "print(thisdict.values())\n",
        "print(\"~~~~~~~~~~~~~~~~~~~~~~~~~~~\")\n",
        "dict2.clear()\n",
        "thisdict.clear()\n",
        "print(dict2)\n",
        "print(thisdict)"
      ],
      "metadata": {
        "colab": {
          "base_uri": "https://localhost:8080/"
        },
        "id": "YjP7brdeJoDY",
        "outputId": "24129df9-a218-4015-b931-df3dede6874c"
      },
      "execution_count": 37,
      "outputs": [
        {
          "output_type": "stream",
          "name": "stdout",
          "text": [
            "{1: 'python', 2: 'is', 3: 'fun', 4: [1, 2, 3, 4, 5], 5: (9, 8, 7, 6, 5), 6: {'x': 1, 'y': 2, 'z': 3}, 'hi': 'hello'}\n",
            "~~~~~~~~~~~~~~~~~~~~~~~~~~~\n",
            "{'key1': [0, 1], 'key2': [0, 1], 'key3': [0, 1]}\n",
            "~~~~~~~~~~~~~~~~~~~~~~~~~~~\n",
            "{'x': 1, 'y': 2, 'z': 3}\n",
            "~~~~~~~~~~~~~~~~~~~~~~~~~~~\n",
            "dict_items([(1, 'python'), (2, 'is'), (3, 'fun'), (4, [1, 2, 3, 4, 5]), (5, (9, 8, 7, 6, 5)), (6, {'x': 1, 'y': 2, 'z': 3}), ('hi', 'hello')])\n",
            "dict_items([('key1', [0, 1]), ('key2', [0, 1]), ('key3', [0, 1])])\n",
            "~~~~~~~~~~~~~~~~~~~~~~~~~~~\n",
            "dict_keys([1, 2, 3, 4, 5, 6, 'hi'])\n",
            "dict_keys(['key1', 'key2', 'key3'])\n",
            "~~~~~~~~~~~~~~~~~~~~~~~~~~~\n",
            "(9, 8, 7, 6, 5)\n",
            "[0, 1]\n",
            "~~~~~~~~~~~~~~~~~~~~~~~~~~~\n",
            "('hi', 'hello')\n",
            "('key3', [0, 1])\n",
            "~~~~~~~~~~~~~~~~~~~~~~~~~~~\n",
            "{1: 'python', 2: [2, 4, 6, 8], 3: 'fun', 4: [1, 2, 3, 4, 5], 6: {'x': 1, 'y': 2, 'z': 3}}\n",
            "{'key1': [0, 1], 1: 'new'}\n",
            "dict_values(['python', [2, 4, 6, 8], 'fun', [1, 2, 3, 4, 5], {'x': 1, 'y': 2, 'z': 3}])\n",
            "dict_values([[0, 1], 'new'])\n",
            "{}\n",
            "{}\n"
          ]
        }
      ]
    },
    {
      "cell_type": "markdown",
      "source": [
        "# Set { }\n",
        "\n",
        "Used to store multiple unique items in a single variable, unordered, mutable, and unindexed.\n",
        "\n",
        "Can remove items and add new items."
      ],
      "metadata": {
        "id": "liR5nozrS3Sl"
      }
    },
    {
      "cell_type": "code",
      "source": [
        "s = \"java, python, typescript\"\n",
        "s = set(s)\n",
        "print(s)\n",
        "\n",
        "# items can appear in a different order every time you use them,\n",
        "# and cannot be referred to by index or key.\n",
        "\n",
        "thisset = {\"apple\", \"banana\", \"cherry\"}\n",
        "print(thisset) \n",
        "print(\"~~~~~~~~~~~~~~~~~~~~~~~~~~~\")\n",
        "#add() adds an element to the set\n",
        "thisset.add(1)\n",
        "print(thisset)\n",
        "print(\"~~~~~~~~~~~~~~~~~~~~~~~~~~~\")\n",
        "#difference() returns a set containing the difference between two or more sets\n",
        "a = {1,2,3,4,5,6}\n",
        "b = {5,6,7}\n",
        "print(a.difference(b))\n",
        "print(\"~~~~~~~~~~~~~~~~~~~~~~~~~~~\")\n",
        "#difference_update() removes the items in this set that are also included in another, specified set\n",
        "a.difference_update(b)\n",
        "print(a)\n",
        "print(b)\n",
        "a = {1,2,3,4,5,6}\n",
        "print(\"~~~~~~~~~~~~~~~~~~~~~~~~~~~\")\n",
        "#discard()/ remove() removes the specified item\n",
        "a.remove(2)\n",
        "print(a)\n",
        "print(\"~~~~~~~~~~~~~~~~~~~~~~~~~~~\")\n",
        "#intersection() returns a set, that is the intersection of two or more sets\n",
        "print(a.intersection(b))\n",
        "print(\"~~~~~~~~~~~~~~~~~~~~~~~~~~~\")\n",
        "#union() return a set containing the union of sets\n",
        "print(a.union(b))\n",
        "print(\"~~~~~~~~~~~~~~~~~~~~~~~~~~~\")\n",
        "#symmentric_difference() returns a set with the symmetric differences of two sets\n",
        "print(a.symmetric_difference(b))\n",
        "print(\"~~~~~~~~~~~~~~~~~~~~~~~~~~~\")\n",
        "#pop() removes and returns an element from the set\n",
        "a.pop()\n",
        "print(a)"
      ],
      "metadata": {
        "colab": {
          "base_uri": "https://localhost:8080/"
        },
        "id": "wdf296TYTPFo",
        "outputId": "86b5ec88-5b9c-49f4-eb1d-a6ad6d51023a"
      },
      "execution_count": 50,
      "outputs": [
        {
          "output_type": "stream",
          "name": "stdout",
          "text": [
            "{'r', 'o', 's', 'a', ' ', 'h', 'n', ',', 'y', 'i', 'j', 'v', 'p', 'e', 't', 'c'}\n",
            "{'banana', 'cherry', 'apple'}\n",
            "~~~~~~~~~~~~~~~~~~~~~~~~~~~\n",
            "{'banana', 1, 'cherry', 'apple'}\n",
            "~~~~~~~~~~~~~~~~~~~~~~~~~~~\n",
            "{1, 2, 3, 4}\n",
            "~~~~~~~~~~~~~~~~~~~~~~~~~~~\n",
            "{1, 2, 3, 4}\n",
            "{5, 6, 7}\n",
            "~~~~~~~~~~~~~~~~~~~~~~~~~~~\n",
            "{1, 3, 4, 5, 6}\n",
            "~~~~~~~~~~~~~~~~~~~~~~~~~~~\n",
            "{5, 6}\n",
            "~~~~~~~~~~~~~~~~~~~~~~~~~~~\n",
            "{1, 3, 4, 5, 6, 7}\n",
            "~~~~~~~~~~~~~~~~~~~~~~~~~~~\n",
            "{1, 3, 4, 7}\n",
            "~~~~~~~~~~~~~~~~~~~~~~~~~~~\n",
            "{3, 4, 5, 6}\n"
          ]
        }
      ]
    },
    {
      "cell_type": "markdown",
      "source": [
        "# String methods"
      ],
      "metadata": {
        "id": "nHEjzQvkWpdM"
      }
    },
    {
      "cell_type": "code",
      "source": [
        "# Convert string to uppercase\n",
        "txt = \"hello world\"\n",
        "print(txt.capitalize())\n",
        "print(\"~~~~~~~~~~~~~~~~~~~~~~~~~~~\")\n",
        "# Covert to lowercase\n",
        "txt = \"Hello World\"\n",
        "print(txt.casefold())\n",
        "print(\"~~~~~~~~~~~~~~~~~~~~~~~~~~~\")\n",
        "#Encode string using a rule\n",
        "print(txt.encode('ascii'))\n",
        "s = \"hello. this is a sample text to learn about python strings\"\n",
        "#Count occurence of string/character\n",
        "print(s.count('s'))\n",
        "print(\"~~~~~~~~~~~~~~~~~~~~~~~~~~~\")\n",
        "#Check if s ends with specified string\n",
        "print(s.endswith('strings'))\n",
        "print(\"~~~~~~~~~~~~~~~~~~~~~~~~~~~\")\n",
        "#Return index of specified string\n",
        "print(s.find('python'))\n",
        "print(s.index('python'))\n",
        "print(\"~~~~~~~~~~~~~~~~~~~~~~~~~~~\")\n",
        "#Check if string is title, every word's first letter is capital\n",
        "print(txt.istitle())\n",
        "print(\"~~~~~~~~~~~~~~~~~~~~~~~~~~~\")\n",
        "#Replace old string with new string, specified number of times, else all occurences\n",
        "print(s.replace('s','x',4))\n",
        "#Swap lowercase to uppercase & uppercase to lowercase\n",
        "print(txt.swapcase())\n",
        "#Convert string to title, every word's first letter is capital\n",
        "print(s.title())\n",
        "#Strip every word, based on specified seperator, default is=' '\n",
        "print(list(s.strip()))"
      ],
      "metadata": {
        "colab": {
          "base_uri": "https://localhost:8080/"
        },
        "id": "qZoqgu8zWtDb",
        "outputId": "29c977f0-1ac5-4d69-c682-c9cde7c34ead"
      },
      "execution_count": 73,
      "outputs": [
        {
          "output_type": "stream",
          "name": "stdout",
          "text": [
            "Hello world\n",
            "~~~~~~~~~~~~~~~~~~~~~~~~~~~\n",
            "hello world\n",
            "~~~~~~~~~~~~~~~~~~~~~~~~~~~\n",
            "b'Hello World'\n",
            "5\n",
            "~~~~~~~~~~~~~~~~~~~~~~~~~~~\n",
            "True\n",
            "~~~~~~~~~~~~~~~~~~~~~~~~~~~\n",
            "44\n",
            "44\n",
            "~~~~~~~~~~~~~~~~~~~~~~~~~~~\n",
            "True\n",
            "~~~~~~~~~~~~~~~~~~~~~~~~~~~\n",
            "hello. thix ix a xample text to learn about python xtrings\n",
            "hELLO wORLD\n",
            "Hello. This Is A Sample Text To Learn About Python Strings\n",
            "['h', 'e', 'l', 'l', 'o', '.', ' ', 't', 'h', 'i', 's', ' ', 'i', 's', ' ', 'a', ' ', 's', 'a', 'm', 'p', 'l', 'e', ' ', 't', 'e', 'x', 't', ' ', 't', 'o', ' ', 'l', 'e', 'a', 'r', 'n', ' ', 'a', 'b', 'o', 'u', 't', ' ', 'p', 'y', 't', 'h', 'o', 'n', ' ', 's', 't', 'r', 'i', 'n', 'g', 's']\n"
          ]
        }
      ]
    },
    {
      "cell_type": "code",
      "source": [
        ""
      ],
      "metadata": {
        "id": "Kst5IxOKWzzB"
      },
      "execution_count": null,
      "outputs": []
    }
  ]
}