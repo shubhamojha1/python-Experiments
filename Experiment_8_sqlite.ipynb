{
  "nbformat": 4,
  "nbformat_minor": 0,
  "metadata": {
    "colab": {
      "name": "Experiment_8-sqlite.ipynb",
      "provenance": [],
      "collapsed_sections": [],
      "authorship_tag": "ABX9TyMXmznaANRuzmEbQN/0pCLj",
      "include_colab_link": true
    },
    "kernelspec": {
      "name": "python3",
      "display_name": "Python 3"
    },
    "language_info": {
      "name": "python"
    }
  },
  "cells": [
    {
      "cell_type": "markdown",
      "metadata": {
        "id": "view-in-github",
        "colab_type": "text"
      },
      "source": [
        "<a href=\"https://colab.research.google.com/github/shubhamojha1/python-Experiments/blob/main/Experiment_8_sqlite.ipynb\" target=\"_parent\"><img src=\"https://colab.research.google.com/assets/colab-badge.svg\" alt=\"Open In Colab\"/></a>"
      ]
    },
    {
      "cell_type": "code",
      "execution_count": 1,
      "metadata": {
        "id": "BLVF_ZM1ifyd"
      },
      "outputs": [],
      "source": [
        "import sqlite3 as sql\n"
      ]
    },
    {
      "cell_type": "code",
      "source": [
        "try:\n",
        "  sqliteConnection = sql.connect(\"SQLite_python.db\")\n",
        "  create_table_query = \"\"\"CREATE TABLE SqliteDb_developers (id INTEGER PRIMARY KEY, name TEXT NOT NULL, email TEXT NOT NULL UNIQUE, joining_date datetime,\n",
        "                                salary REAL NOT NULL);\"\"\"\n",
        "                              \n",
        "  cursor = sqliteConnection.cursor()\n",
        "  print('Connected successfully to SQLite!')\n",
        "  cursor.execute(create_table_query)\n",
        "  sqliteConnection.commit()\n",
        "  print(\"SQLite table created!\")\n",
        "  cursor.close()\n",
        "\n",
        "except sql.Error as e:\n",
        "  print(\"Error while creating table!\", e)\n",
        "finally:\n",
        "  if sqliteConnection:\n",
        "    sqliteConnection.close()\n",
        "    print(\"sqlite connection closed\")"
      ],
      "metadata": {
        "colab": {
          "base_uri": "https://localhost:8080/"
        },
        "id": "F_lwEk78kPbr",
        "outputId": "af5e2baa-7c65-45e1-87fc-f5a075eea7f2"
      },
      "execution_count": 2,
      "outputs": [
        {
          "output_type": "stream",
          "name": "stdout",
          "text": [
            "Connected successfully to SQLite!\n",
            "SQLite table created!\n",
            "sqlite connection closed\n"
          ]
        }
      ]
    },
    {
      "cell_type": "code",
      "source": [
        "sqliteConnection = sql.connect('SQLite_python.db')\n",
        "cursor = sqliteConnection.cursor()\n",
        "insert_query= \"\"\"INSERT INTO SqliteDb_developers\n",
        "                          (id, name, email, joining_date, salary) \n",
        "                           VALUES \n",
        "                          (1,'James','james@pynative.com','2022-03-17',8000)\n",
        "              \"\"\"\n",
        "cursor.execute(insert_query)\n",
        "sqliteConnection.commit()\n",
        "print(\"Successfully inserted records into SQLite_python TABLE\", cursor.rowcount)\n"
      ],
      "metadata": {
        "colab": {
          "base_uri": "https://localhost:8080/"
        },
        "id": "ZOZrHKl9lSB7",
        "outputId": "8ef9086c-8ef9-4e9b-8b12-a6406e8fc402"
      },
      "execution_count": 3,
      "outputs": [
        {
          "output_type": "stream",
          "name": "stdout",
          "text": [
            "Successfully inserted records into SQLite_python TABLE 1\n"
          ]
        }
      ]
    },
    {
      "cell_type": "code",
      "source": [
        "print(cursor.execute(\"SELECT * FROM SqliteDb_developers\").fetchall())\n",
        "select_all_command = cursor.execute(\"SELECT * FROM SqliteDb_developers\").fetchall()"
      ],
      "metadata": {
        "colab": {
          "base_uri": "https://localhost:8080/"
        },
        "id": "G_6jSBGWmdoT",
        "outputId": "5d32f364-bc28-4f4b-ccd1-31b86cd18732"
      },
      "execution_count": 4,
      "outputs": [
        {
          "output_type": "stream",
          "name": "stdout",
          "text": [
            "[(1, 'James', 'james@pynative.com', '2022-03-17', 8000.0)]\n"
          ]
        }
      ]
    },
    {
      "cell_type": "code",
      "source": [
        "cursor.close()\n",
        "sqliteConnection.close()"
      ],
      "metadata": {
        "id": "EsGAQJ2ZnKJ6"
      },
      "execution_count": 5,
      "outputs": []
    },
    {
      "cell_type": "code",
      "source": [
        "sqliteConnection = sql.connect('SQLite_python.db')\n",
        "cursor = sqliteConnection.cursor()\n",
        "print(\"Connected to SQLite\")\n",
        "rows = cursor.execute(\"SELECT * FROM SqliteDb_developers\").fetchall()\n",
        "print(rows)\n"
      ],
      "metadata": {
        "colab": {
          "base_uri": "https://localhost:8080/"
        },
        "id": "qDHQRqYMB4V7",
        "outputId": "4b3bb6b6-d8fd-483a-ab37-98eec468cb54"
      },
      "execution_count": 8,
      "outputs": [
        {
          "output_type": "stream",
          "name": "stdout",
          "text": [
            "Connected to SQLite\n",
            "[(1, 'James', 'james@pynative.com', '2022-03-17', 8000.0), (2, 'joe', 'joe@gmail.com', '2022-05-19', 10000.0), (3, 'ben', 'ben@gmail.com', '2022-02-01', 5000.0)]\n"
          ]
        }
      ]
    },
    {
      "cell_type": "code",
      "source": [
        "type(rows)"
      ],
      "metadata": {
        "colab": {
          "base_uri": "https://localhost:8080/"
        },
        "id": "QOBvnCzepeHx",
        "outputId": "02cf9fa6-8efa-4d26-d6b4-c356fe215afd"
      },
      "execution_count": null,
      "outputs": [
        {
          "output_type": "execute_result",
          "data": {
            "text/plain": [
              "list"
            ]
          },
          "metadata": {},
          "execution_count": 17
        }
      ]
    },
    {
      "cell_type": "code",
      "source": [
        "def selectAll():\n",
        "  sqliteConnection = sql.connect('SQLite_python.db')\n",
        "  cursor = sqliteConnection.cursor()\n",
        "  # print(\"Connected to SQLite\")\n",
        "  print(cursor.execute(\"SELECT * FROM SqliteDb_developers\").fetchall())\n",
        "  cursor.close()\n"
      ],
      "metadata": {
        "id": "V8M4iFh2o-qK"
      },
      "execution_count": 9,
      "outputs": []
    },
    {
      "cell_type": "code",
      "source": [
        "def insertValue(id, name, email, joinDate, salary):\n",
        "  try:\n",
        "    sqlConnection = sql.connect('SQLite_python.db')\n",
        "    cursor = sqlConnection.cursor()\n",
        "    print(\"Connected to SQLite\")\n",
        "\n",
        "    insert_with_param = \"\"\"\n",
        "    INSERT INTO SqliteDb_developers (id, name, email, joining_date, salary)\n",
        "    VALUES (?, ?, ?, ?, ?);\n",
        "                        \"\"\"\n",
        "    data_tuple = (id, name, email, joinDate, salary)\n",
        "    cursor.execute(insert_with_param, data_tuple)\n",
        "    sqlConnection.commit()\n",
        "    print(\"Successfully inserted records into SQLite_python TABLE\", cursor.rowcount)\n",
        "    cursor.close()\n",
        "\n",
        "\n",
        "  except sql.Error as e:\n",
        "    print(\"Failed to insert values into TABLE\", e)"
      ],
      "metadata": {
        "id": "WZGZnGt1mwcp"
      },
      "execution_count": 6,
      "outputs": []
    },
    {
      "cell_type": "code",
      "source": [
        "def removeFromTable(whereCondition):\n",
        "  try:\n",
        "    sqliteConnection = sql.connect('SQLite_python.db')\n",
        "    cursor = sqliteConnection.cursor()\n",
        "    # print(\"Connected to SQLite\")\n",
        "    where_condition = whereCondition\n",
        "    remove_command = cursor.execute(\"DELETE FROM SqliteDb_developers WHERE {};\".format(where_condition))\n",
        "    sqliteConnection.commit()\n",
        "    print(\"Successfully deleted!\")\n",
        "    cursor.close()\n",
        "  except sql.Error as e:\n",
        "    print(\"Error in removing row!\", e)\n"
      ],
      "metadata": {
        "id": "jlE9VHJ7qFTo"
      },
      "execution_count": 11,
      "outputs": []
    },
    {
      "cell_type": "code",
      "source": [
        "def updateTable(set=\"\",condition=\"\"):\n",
        "  try:\n",
        "    sqliteConnection = sql.connect('SQLite_python.db')\n",
        "    cursor = sqliteConnection.cursor()\n",
        "\n",
        "    update_query = \"\"\"\n",
        "                  UPDATE SqliteDb_developers SET {} WHERE {}\n",
        "                  \"\"\".format(set, condition)\n",
        "    cursor.execute(update_query)\n",
        "    sqliteConnection.commit()\n",
        "    print(\"Updated successfully\")\n",
        "    cursor.close()\n",
        "\n",
        "  except sql.Error as e:\n",
        "    print(\"Failed to update table!\", e)"
      ],
      "metadata": {
        "id": "Ke_a7bCkuLEJ"
      },
      "execution_count": 15,
      "outputs": []
    },
    {
      "cell_type": "code",
      "source": [
        "selectAll()\n"
      ],
      "metadata": {
        "colab": {
          "base_uri": "https://localhost:8080/"
        },
        "id": "FWmx6VPZp-Fq",
        "outputId": "ea1c8c17-fe70-46b6-dac9-346a7e125051"
      },
      "execution_count": 10,
      "outputs": [
        {
          "output_type": "stream",
          "name": "stdout",
          "text": [
            "[(1, 'James', 'james@pynative.com', '2022-03-17', 8000.0), (2, 'joe', 'joe@gmail.com', '2022-05-19', 10000.0), (3, 'ben', 'ben@gmail.com', '2022-02-01', 5000.0)]\n"
          ]
        }
      ]
    },
    {
      "cell_type": "code",
      "source": [
        "removeFromTable('name = \"joe\"')"
      ],
      "metadata": {
        "id": "7eF-40k4qxUa",
        "colab": {
          "base_uri": "https://localhost:8080/"
        },
        "outputId": "9612002f-a8f8-4992-a222-450bd814d894"
      },
      "execution_count": null,
      "outputs": [
        {
          "output_type": "stream",
          "name": "stdout",
          "text": [
            "Successfully deleted!\n"
          ]
        }
      ]
    },
    {
      "cell_type": "code",
      "source": [
        "selectAll()"
      ],
      "metadata": {
        "colab": {
          "base_uri": "https://localhost:8080/"
        },
        "id": "PcwSj9xZtIYi",
        "outputId": "78b4d560-91e3-4d83-aeb4-3a55e0f4be7c"
      },
      "execution_count": 12,
      "outputs": [
        {
          "output_type": "stream",
          "name": "stdout",
          "text": [
            "[(1, 'James', 'james@pynative.com', '2022-03-17', 8000.0), (2, 'joe', 'joe@gmail.com', '2022-05-19', 10000.0), (3, 'ben', 'ben@gmail.com', '2022-02-01', 5000.0)]\n"
          ]
        }
      ]
    },
    {
      "cell_type": "code",
      "source": [
        "insertValue(2, 'joe', 'joe@gmail.com', '2022-05-19', 10000)\n",
        "insertValue(3, 'ben', 'ben@gmail.com', '2022-02-01', 5000)"
      ],
      "metadata": {
        "colab": {
          "base_uri": "https://localhost:8080/"
        },
        "id": "qeVyVLKVoXjj",
        "outputId": "98523535-f148-404d-a582-e3b111642c51"
      },
      "execution_count": 7,
      "outputs": [
        {
          "output_type": "stream",
          "name": "stdout",
          "text": [
            "Connected to SQLite\n",
            "Successfully inserted records into SQLite_python TABLE 1\n",
            "Connected to SQLite\n",
            "Successfully inserted records into SQLite_python TABLE 1\n"
          ]
        }
      ]
    },
    {
      "cell_type": "code",
      "source": [
        "removeFromTable('id = 1')\n"
      ],
      "metadata": {
        "colab": {
          "base_uri": "https://localhost:8080/"
        },
        "id": "TaWIz2q-t_iJ",
        "outputId": "160d2357-d890-44c4-e19d-15ae9df256d7"
      },
      "execution_count": 13,
      "outputs": [
        {
          "output_type": "stream",
          "name": "stdout",
          "text": [
            "Successfully deleted!\n"
          ]
        }
      ]
    },
    {
      "cell_type": "code",
      "source": [
        "selectAll()"
      ],
      "metadata": {
        "colab": {
          "base_uri": "https://localhost:8080/"
        },
        "id": "CwSBRgr2tRF4",
        "outputId": "4a628eb5-e3b4-470d-a31d-f21352df314f"
      },
      "execution_count": 14,
      "outputs": [
        {
          "output_type": "stream",
          "name": "stdout",
          "text": [
            "[(2, 'joe', 'joe@gmail.com', '2022-05-19', 10000.0), (3, 'ben', 'ben@gmail.com', '2022-02-01', 5000.0)]\n"
          ]
        }
      ]
    },
    {
      "cell_type": "code",
      "source": [
        "updateTable(set=\"name='joseph'\", condition=\"id=2\")"
      ],
      "metadata": {
        "id": "uDmS1vbevoJq",
        "colab": {
          "base_uri": "https://localhost:8080/"
        },
        "outputId": "42056299-8011-4cda-968f-5d0ceec43eef"
      },
      "execution_count": 16,
      "outputs": [
        {
          "output_type": "stream",
          "name": "stdout",
          "text": [
            "Updated successfully\n"
          ]
        }
      ]
    },
    {
      "cell_type": "code",
      "source": [
        "selectAll()"
      ],
      "metadata": {
        "colab": {
          "base_uri": "https://localhost:8080/"
        },
        "id": "-c3Iix9B_oKb",
        "outputId": "e4eba70e-44d2-4dfc-9456-c492cf9c649c"
      },
      "execution_count": 17,
      "outputs": [
        {
          "output_type": "stream",
          "name": "stdout",
          "text": [
            "[(2, 'joseph', 'joe@gmail.com', '2022-05-19', 10000.0), (3, 'ben', 'ben@gmail.com', '2022-02-01', 5000.0)]\n"
          ]
        }
      ]
    },
    {
      "cell_type": "code",
      "source": [
        ""
      ],
      "metadata": {
        "id": "NBAy0P3A_p19"
      },
      "execution_count": null,
      "outputs": []
    }
  ]
}