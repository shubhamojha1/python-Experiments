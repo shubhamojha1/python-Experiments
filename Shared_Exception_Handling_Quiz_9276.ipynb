{
  "nbformat": 4,
  "nbformat_minor": 0,
  "metadata": {
    "colab": {
      "name": "Shared_Exception_Handling_Quiz-9276",
      "provenance": [],
      "include_colab_link": true
    },
    "kernelspec": {
      "name": "python3",
      "display_name": "Python 3"
    },
    "language_info": {
      "name": "python"
    }
  },
  "cells": [
    {
      "cell_type": "markdown",
      "metadata": {
        "id": "view-in-github",
        "colab_type": "text"
      },
      "source": [
        "<a href=\"https://colab.research.google.com/github/shubhamojha1/python-Experiments/blob/main/Shared_Exception_Handling_Quiz_9276.ipynb\" target=\"_parent\"><img src=\"https://colab.research.google.com/assets/colab-badge.svg\" alt=\"Open In Colab\"/></a>"
      ]
    },
    {
      "cell_type": "markdown",
      "source": [
        "List of standard exceptions\n",
        "https://runestone.academy/ns/books/published/fopp/Exceptions/standard-exceptions.html"
      ],
      "metadata": {
        "id": "dAsse9W4WOo9"
      }
    },
    {
      "cell_type": "code",
      "source": [
        "#example of dictionary of list\n",
        "d = {\"Computer\":[\"Allen\",\"Martina\",\"Sam\"], \"Ecs\":[\"Mamata\",\"Scott\"]}\n"
      ],
      "metadata": {
        "id": "Tr-zQ6INWajf"
      },
      "execution_count": 1,
      "outputs": []
    },
    {
      "cell_type": "code",
      "source": [
        "#add_to_list_in_dict function append an element to a list inside a dict of lists. \n",
        "#Rewrite it to use a try-except statement which handles a possible KeyError if the list with the name provided doesn’t exist in the dictionary yet,\n",
        "#instead of checking beforehand whether it does. Include else and finally clauses in your try-except block:\n",
        "\n",
        "def add_to_list_in_dict(thedict, listname, element):\n",
        "    if listname in thedict:\n",
        "        l = thedict[listname]\n",
        "        print(f\"List {listname} already has {len(l)} elements.\" )\n",
        "    else:\n",
        "        thedict[listname] = []\n",
        "        print(f\"Created {listname}\")\n",
        "\n",
        "    thedict[listname].append(element)\n",
        "\n",
        "    print(f\"Added {element} to list {listname}\")\n"
      ],
      "metadata": {
        "id": "oB44KcPpQXGf"
      },
      "execution_count": null,
      "outputs": []
    },
    {
      "cell_type": "code",
      "source": [
        "dict1 = dict()"
      ],
      "metadata": {
        "id": "b7idg-CCUpfU"
      },
      "execution_count": 4,
      "outputs": []
    },
    {
      "cell_type": "code",
      "source": [
        "\n",
        "add_to_list_in_dict(dict1,\"Comp\",\"mamta\")\n",
        "print(dict1)"
      ],
      "metadata": {
        "colab": {
          "base_uri": "https://localhost:8080/"
        },
        "id": "oR5-Uvt4R1rC",
        "outputId": "fadd8152-ae93-4d03-fcbd-c7a0ae239f71"
      },
      "execution_count": 5,
      "outputs": [
        {
          "output_type": "stream",
          "name": "stdout",
          "text": [
            "Created Comp\n",
            "Added mamta to list Comp\n",
            "{'Comp': ['mamta']}\n"
          ]
        }
      ]
    },
    {
      "cell_type": "code",
      "source": [
        "def add_to_list_in_dict(thedict, listname, element):\n",
        "    try:\n",
        "        l = thedict[listname]\n",
        "    except KeyError:\n",
        "        thedict[listname] = []\n",
        "        print(f\"Created {listname}\")\n",
        "    else:\n",
        "        print(f\"List {listname} already has {len(l)} elements.\" )\n",
        "    finally:\n",
        "        thedict[listname].append(element)\n",
        "        print(f\"Added {element} to list {listname}\")"
      ],
      "metadata": {
        "id": "j0M_30X6Q7qr"
      },
      "execution_count": 2,
      "outputs": []
    },
    {
      "cell_type": "markdown",
      "source": [
        "####Q.1 to Q.8 Here provided buggy code. Add a try/except clause so the code runs without errors. \n"
      ],
      "metadata": {
        "id": "4jdNe0cVXRxy"
      }
    },
    {
      "cell_type": "markdown",
      "source": [
        "###Q.1 \n",
        "The code below assigns the 5th letter of each word in food to the new list fifth. Insert a try/except clause that will allow the code to run and produce of list of the 5th letter in each word. If the word is not long enough, it should print \"no fifth character in ____ string\""
      ],
      "metadata": {
        "id": "UHz05CnuYKr4"
      }
    },
    {
      "cell_type": "code",
      "source": [
        "#with exception handing\n",
        "#ANS 1\n",
        "food = [\"chocolate\", \"chicken\", \"corn\", \"sandwich\", \"soup\", \"potatoes\", \"beef\", \"lox\", \"lemonade\"]\n",
        "\n",
        "fifth = []\n",
        "for x in food:\n",
        "    try:\n",
        "        fifth.append(x[4])\n",
        "    except IndexError:\n",
        "        fifth.append(f\"{x} has no fifth character!\")\n",
        "\n",
        "for x in fifth:\n",
        "  print(x)"
      ],
      "metadata": {
        "id": "epgkblAmYJcv",
        "colab": {
          "base_uri": "https://localhost:8080/"
        },
        "outputId": "76607af7-ec75-4486-ebb3-ed417a2ae78c"
      },
      "execution_count": 15,
      "outputs": [
        {
          "output_type": "stream",
          "name": "stdout",
          "text": [
            "o\n",
            "k\n",
            "corn has no fifth character!\n",
            "w\n",
            "soup has no fifth character!\n",
            "t\n",
            "beef has no fifth character!\n",
            "lox has no fifth character!\n",
            "n\n"
          ]
        }
      ]
    },
    {
      "cell_type": "markdown",
      "source": [
        "### Q.2\n",
        "If a blog post didn’t get any likes, a ‘Likes’ key should be added to that dictionary with a value of 0.\n"
      ],
      "metadata": {
        "id": "NPyw_C1RXvCN"
      }
    },
    {
      "cell_type": "code",
      "source": [
        "#code without bug\n",
        "# ANS 2\n",
        "blog_posts = [{'Photos': 3, 'Likes': 21, 'Comments': 2}, {'Likes': 13, 'Comments': 2, 'Shares': 1}, \n",
        "              {'Photos': 5, 'Likes': 33, 'Comments': 8, 'Shares': 3}, {'Comments': 4, 'Shares': 2}, \n",
        "              {'Photos': 8, 'Comments': 1, 'Shares': 1}, {'Photos': 3, 'Likes': 19, 'Comments': 3}]\n",
        "\n",
        "total_likes = 0\n",
        "total_comments = 0\n",
        "total_photos = 0\n",
        "total_shares = 0\n",
        "\n",
        "for post in blog_posts:\n",
        "    # total_likes = total_likes + post['Likes']\n",
        "    if 'Likes' not in post.keys():\n",
        "      post['Likes'] = 0\n",
        "    if 'Shares' not in post.keys():\n",
        "      post['Shares']=0\n",
        "    if 'Comments' not in post.keys():\n",
        "      post['Comments']=0\n",
        "    if 'Photos' not in post.keys():\n",
        "      post['Photos']=0\n",
        "\n",
        "for post in blog_posts:\n",
        "  total_likes+=post['Likes']\n",
        "  total_photos+=post['Photos']\n",
        "  total_comments+=post['Comments']\n",
        "  total_shares+=post['Shares']\n",
        "\n",
        "print(f\"Total likes on all blog posts: {total_likes}\")\n",
        "print(f\"Total comments on all blog posts: {total_comments}\")\n",
        "print(f\"Total photos on all blog posts: {total_photos}\")\n",
        "print(f\"Total shares on all blog posts: {total_shares}\")"
      ],
      "metadata": {
        "id": "VMizC4LpYGah",
        "colab": {
          "base_uri": "https://localhost:8080/"
        },
        "outputId": "0a717b39-9635-49c6-b3b5-3c0dc5ecdbe3"
      },
      "execution_count": 23,
      "outputs": [
        {
          "output_type": "stream",
          "name": "stdout",
          "text": [
            "Total likes on all blog posts: 86\n",
            "Total comments on all blog posts: 20\n",
            "Total photos on all blog posts: 19\n",
            "Total shares on all blog posts: 7\n"
          ]
        }
      ]
    },
    {
      "cell_type": "markdown",
      "source": [
        "### Q.3 \n",
        "Insert a try/except so that the code passes. If the key is not there, initialize it in the dictionary and set the value to zero.\n"
      ],
      "metadata": {
        "id": "lMV31ltJbblM"
      }
    },
    {
      "cell_type": "code",
      "source": [
        "#code without bug\n",
        "# ANS 3\n",
        "import sys\n",
        "\n",
        "class NoPuppiesError(Exception):\n",
        "  def __init__(self, message):\n",
        "    message = f\"!!Error!! {message}\"\n",
        "    super().__init__(message)\n",
        "\n",
        "\n",
        "di = [{\"Puppies\": 17, 'Kittens': 9, \"Birds\": 23, 'Fish': 90, \"Hamsters\": 49}, \n",
        "      {\"Puppies\": 23, \"Birds\": 29, \"Fish\": 20, \"Mice\": 20, \"Snakes\": 7}, \n",
        "      {\"Fish\": 203, \"Hamsters\": 93, \"Snakes\": 25, \"Kittens\": 89}, \n",
        "      {\"Birds\": 20, \"Puppies\": 90, \"Snakes\": 21, \"Fish\": 10, \"Kittens\": 67}]\n",
        "total = 0\n",
        "i = 1\n",
        "for diction in di:\n",
        "  try:\n",
        "    if 'Puppies' not in diction.keys():\n",
        "      raise NoPuppiesError(f\"No puppies in list {i}\")\n",
        "    else:\n",
        "      print(f\"Puppies in list {i}\")\n",
        "      total = total + diction['Puppies']\n",
        "  except NoPuppiesError:\n",
        "    print(sys.exc_info()[1])\n",
        "  i+=1\n",
        "  # total = total + diction['Puppies']\n",
        "# print(di)\n",
        "print(f\"\\nTotal number of puppies: {total}\")"
      ],
      "metadata": {
        "id": "JtUTinHiZWy_",
        "colab": {
          "base_uri": "https://localhost:8080/"
        },
        "outputId": "3b5aacac-b409-4081-f176-7d06d808ad27"
      },
      "execution_count": 43,
      "outputs": [
        {
          "output_type": "stream",
          "name": "stdout",
          "text": [
            "Puppies in list 1\n",
            "Puppies in list 2\n",
            "!!Error!! No puppies in list 3\n",
            "Puppies in list 4\n",
            "\n",
            "Total number of puppies: 130\n"
          ]
        }
      ]
    },
    {
      "cell_type": "markdown",
      "source": [
        "### Q.4 \n",
        "Below, we have provided a list of tuples that consist of student names, final exam scores, and whether or not they will pass the class. For some students, the tuple does not have a third element because it is unknown whether or not they will pass. Currently, the for loop does not work. Add a try/except clause so the code runs without an error - if there is no third element in the tuple, no changes should be made to the dictionary.\n",
        "\n"
      ],
      "metadata": {
        "id": "6rQ61A0NfEgO"
      }
    },
    {
      "cell_type": "code",
      "source": [
        "#code without bug\n",
        "# ANS 4\n",
        "students = [('Timmy', 95, 'Will pass'), ('Martha', 70), ('Betty', 82, 'Will pass'), ('Stewart', 50, \n",
        "          'Will not pass'), ('Ashley', 68), ('Natalie', 99, 'Will pass'), ('Archie', 71), ('Carl', \n",
        "           45, 'Will not pass')]\n",
        "\n",
        "passing = {'Will pass': 0, 'Will not pass': 0}\n",
        "\n",
        "for tup in students:\n",
        "  try:\n",
        "    if tup[2] == 'Will pass':\n",
        "        passing['Will pass'] += 1\n",
        "    elif tup[2] == 'Will not pass':\n",
        "        passing['Will not pass'] += 1\n",
        "  except Exception as e:\n",
        "    print(f\"{tup[0]}'s status is unknown\")\n",
        "\n",
        "print(passing)"
      ],
      "metadata": {
        "id": "iEOR6PsMZclL",
        "colab": {
          "base_uri": "https://localhost:8080/"
        },
        "outputId": "8600030f-b309-4156-ed14-47b88ffe5bf3"
      },
      "execution_count": 78,
      "outputs": [
        {
          "output_type": "stream",
          "name": "stdout",
          "text": [
            "Martha's status is unknown\n",
            "Ashley's status is unknown\n",
            "Archie's status is unknown\n",
            "{'Will pass': 3, 'Will not pass': 2}\n"
          ]
        }
      ]
    },
    {
      "cell_type": "markdown",
      "source": [
        "### Q.5 \n",
        "The code below takes the list of country, country, and searches to see if it is in the dictionary gold which shows some countries who won gold during the Olympics. However, this code currently does not work. Correctly add try/except clause in the code so that it will correctly populate the list, country_gold, with either the number of golds won or the string “Did not get gold”."
      ],
      "metadata": {
        "id": "0M3RuLVFfrFk"
      }
    },
    {
      "cell_type": "code",
      "source": [
        "#code without bug\n",
        "# ANS 5\n",
        "gold = {\"US\":46, \"Fiji\":1, \"Great Britain\":27, \"Cuba\":5, \"Thailand\":2, \"China\":26, \"France\":10}\n",
        "country = [\"Fiji\", \"Chile\", \"Mexico\", \"France\", \"Norway\", \"US\"]\n",
        "country_gold = []\n",
        "\n",
        "for x in country:\n",
        "  try:\n",
        "    country_gold.append(f\"Country: {x} -- No.of Gold Medals: {gold[x]}\")\n",
        "    # country_gold.append(\"Did not get gold\")\n",
        "  except Exception as e:\n",
        "    country_gold.append(f\"Country: {x} -- did not get gold\")\n",
        "    # print(str(e)+\" did not get a gold\")\n",
        "\n",
        "for x in country_gold:\n",
        "  print(x)"
      ],
      "metadata": {
        "id": "s-PNgvrnZhQk",
        "colab": {
          "base_uri": "https://localhost:8080/"
        },
        "outputId": "2d471325-3313-419d-9579-454e1a6aa93a"
      },
      "execution_count": 73,
      "outputs": [
        {
          "output_type": "stream",
          "name": "stdout",
          "text": [
            "Country: Fiji -- No.of Gold Medals: 1\n",
            "Country: Chile -- did not get gold\n",
            "Country: Mexico -- did not get gold\n",
            "Country: France -- No.of Gold Medals: 10\n",
            "Country: Norway -- did not get gold\n",
            "Country: US -- No.of Gold Medals: 46\n"
          ]
        }
      ]
    },
    {
      "cell_type": "markdown",
      "source": [
        "### Q.6 \n",
        "The list, numb, contains integers. Write code that populates the list remainder with the remainder of 36 divided by each number in numb. For example, the first element should be 0, because 36/6 has no remainder. If there is an error, have the string “Error” appear in the remainder.\n"
      ],
      "metadata": {
        "id": "1VUj1aZ-f9BU"
      }
    },
    {
      "cell_type": "code",
      "source": [
        "#ur answer\n",
        "# ANS 6\n",
        "numb = [6, 0, 36, 8, 2, 36, 0, 12, 60, 0, 45, 0, 3, 23]\n",
        "remainder = []\n",
        "import sys\n",
        "\n",
        "class DivisionByZeroError(Exception):\n",
        "  def __init__(self, message):\n",
        "    message = f\"!!Error!! {message}\"\n",
        "    super().__init__(message)\n",
        "\n",
        "for x in numb:\n",
        "  try:\n",
        "    if x == 0:\n",
        "      remainder.append(None)\n",
        "      raise DivisionByZeroError(\"Cant divide by 0!\")\n",
        "    else:\n",
        "      # print(f\"{x} is fine!\")\n",
        "      remainder.append(36%x)\n",
        "  except DivisionByZeroError as e:\n",
        "    print(sys.exc_info()[1])\n",
        "\n",
        "print(remainder)"
      ],
      "metadata": {
        "id": "1ZwWVUo7go-I",
        "colab": {
          "base_uri": "https://localhost:8080/"
        },
        "outputId": "b80e32ac-7d12-4b4e-f94a-3997cb2022a3"
      },
      "execution_count": 79,
      "outputs": [
        {
          "output_type": "stream",
          "name": "stdout",
          "text": [
            "!!Error!! Cant divide by 0!\n",
            "!!Error!! Cant divide by 0!\n",
            "!!Error!! Cant divide by 0!\n",
            "!!Error!! Cant divide by 0!\n",
            "[0, None, 0, 4, 0, 0, None, 0, 36, None, 36, None, 0, 13]\n"
          ]
        }
      ]
    },
    {
      "cell_type": "markdown",
      "source": [
        "### Q.7 \n",
        "Read number of lines in files, list of files provided to you. If file doesnt exit should print \"_ _ _ file not exits\" else print \"_ _ _ file has _ _ _ lines\""
      ],
      "metadata": {
        "id": "Y9KTTRpYgDSr"
      }
    },
    {
      "cell_type": "code",
      "source": [
        "# ANS 7\n",
        "f = open('a.txt', 'r')\n",
        "print(f.read())\n",
        "print()\n",
        "f = open('c.txt', 'r')\n",
        "print(f.read())"
      ],
      "metadata": {
        "colab": {
          "base_uri": "https://localhost:8080/"
        },
        "id": "DC5gktaWIQEh",
        "outputId": "e067ee84-4bb4-4313-fb73-173eebe7d72a"
      },
      "execution_count": 88,
      "outputs": [
        {
          "output_type": "stream",
          "name": "stdout",
          "text": [
            "hello \n",
            "happy birthday\n",
            "bye\n",
            "\n",
            "hello\n",
            "what is your name?\n",
            "shubham\n"
          ]
        }
      ]
    },
    {
      "cell_type": "code",
      "source": [
        "# ANS 7\n",
        "file_list = ['a.txt','b.txt','c.txt',]\n",
        "for fi in file_list:\n",
        "    try:\n",
        "      f = open(fi, 'r')\n",
        "    except:\n",
        "      print(f\"{fi} no present\")\n",
        "    else:\n",
        "      counter = 0\n",
        "      for i in f.read().split(\"\\n\"):\n",
        "        if i:\n",
        "          counter+=1\n",
        "      print(f\"{fi} has {counter} lines\")\n",
        "      f.close()"
      ],
      "metadata": {
        "id": "slWsYlXLhFH3",
        "colab": {
          "base_uri": "https://localhost:8080/"
        },
        "outputId": "75dcb27b-1e55-4e35-8c88-fdc13ae44a9a"
      },
      "execution_count": 89,
      "outputs": [
        {
          "output_type": "stream",
          "name": "stdout",
          "text": [
            "a.txt has 3 lines\n",
            "b.txt no present\n",
            "c.txt has 3 lines\n"
          ]
        }
      ]
    },
    {
      "cell_type": "markdown",
      "source": [
        "### Q.8\n",
        "The following code tries to append the third element of each list in conts to the new list third_countries. Currently, the code does not work. Add a try/except clause so the code runs without errors, and the string ‘Continent does not have 3 countries’ is appended to countries instead of producing an error."
      ],
      "metadata": {
        "id": "bSy8aT-xf6h-"
      }
    },
    {
      "cell_type": "code",
      "source": [
        "#code without bug\n",
        "# ANS 8\n",
        "import sys\n",
        "\n",
        "class NoThirdCountryError(Exception):\n",
        "  def __init__(self, message):\n",
        "    message = f\"!!Error!! {message}\"\n",
        "    super().__init__(message)\n",
        "\n",
        "conts = [['Spain', 'France', 'Greece', 'Portugal', 'Romania', 'Germany'], \n",
        "         ['USA', 'Mexico', 'Canada'], \n",
        "         ['Japan', 'China', 'Korea', 'Vietnam', 'Cambodia'], \n",
        "         ['Argentina', 'Chile', 'Brazil', 'Ecuador', 'Uruguay', 'Venezuela'], \n",
        "         ['Australia'], \n",
        "         ['Zimbabwe', 'Morocco', 'Kenya', 'Ethiopa', 'South Africa'], \n",
        "         ['Antarctica']]\n",
        "\n",
        "third_countries = []\n",
        "\n",
        "for c in conts:\n",
        "  try:\n",
        "      if len(c) < 3:\n",
        "        third_countries.append(None)\n",
        "        raise NoThirdCountryError(\"List has less than 3 countries\")\n",
        "      else:\n",
        "        third_countries.append(c[2])\n",
        "  except:\n",
        "    print(sys.exc_info()[1])\n",
        "      \n",
        "print(third_countries)"
      ],
      "metadata": {
        "id": "2TYQhMtmaSsM",
        "colab": {
          "base_uri": "https://localhost:8080/"
        },
        "outputId": "a76d1c08-0925-48df-cf4e-c0933ccdd628"
      },
      "execution_count": 81,
      "outputs": [
        {
          "output_type": "stream",
          "name": "stdout",
          "text": [
            "!!Error!! List has less than 3 countries\n",
            "!!Error!! List has less than 3 countries\n",
            "['Greece', 'Canada', 'Korea', 'Brazil', None, 'Kenya', None]\n"
          ]
        }
      ]
    },
    {
      "cell_type": "markdown",
      "source": [
        "### Q.9 \n",
        "\n",
        "You're going to write an interactive calculator! User input is assumed to be a formula that consist of a number, an operator (at least + and -), and another number, separated by white space (e.g. 1 + 1). Split user input using str.split(), and check whether the resulting list is valid:\n",
        "\n",
        "If the input does not consist of 3 elements, raise a InvalidInputError, which is a custom Exception.\n",
        "Try to convert the first and third input to a float (like so: float_value = float(str_value)). Catch any ValueError that occurs, and instead raise a InvalidInputError. If the second input is not '+' or '-', again raise a InvalidInputError [Note: Use subclass concept]\n",
        "\n",
        "Test case 1:\n",
        "\n",
        "input> 1 + 1\n",
        "\n",
        "2.0\n",
        "\n",
        "Test case 2:\n",
        "\n",
        "input> 3.2 - 1.5\n",
        "\n",
        "1.7000000000000002\n",
        "\n",
        "Test case 3:\n",
        "input> quit"
      ],
      "metadata": {
        "id": "NqduR9dDXB3O"
      }
    },
    {
      "cell_type": "code",
      "source": [
        "#ur answer\n",
        "# ANS 9\n",
        "import sys\n",
        "\n",
        "class InvalidInputError(Exception):\n",
        "  def __init__(self, message):\n",
        "    message = f\"!!Error!! {message}\"\n",
        "    super().__init__(message)\n",
        "\n",
        "expression = input(\"Enter expression: \").split()\n",
        "\n",
        "try:\n",
        "  if len(expression) != 3:\n",
        "    raise InvalidInputError(\"Only 3 elements allowed!\")\n",
        "  num1, op, num2 = expression\n",
        "  num1 = float(num1)\n",
        "  num2 = float(num2)\n",
        "\n",
        "  if op!='+' or op!='-':\n",
        "    raise InvalidInputError(\"Invalid Operator\")\n",
        "except ValueError:\n",
        "  try:\n",
        "    raise InvalidInputError(\"1st AND 2nd input value must be numbers\")\n",
        "  except:\n",
        "    print(sys.exc_info()[1])\n",
        "except Exception as e:\n",
        "  print(sys.exc_info()[1])\n",
        "else:\n",
        "  if op=='+':\n",
        "    print(num1+num2)\n",
        "  elif op=='-':\n",
        "    print(num1-num2)"
      ],
      "metadata": {
        "id": "hBUwGAKqgvsD",
        "colab": {
          "base_uri": "https://localhost:8080/"
        },
        "outputId": "a0754f76-db05-4ba3-f4dd-59ffba5a41b1"
      },
      "execution_count": 65,
      "outputs": [
        {
          "output_type": "stream",
          "name": "stdout",
          "text": [
            "Enter expression: 2 = 6\n",
            "!!Error!! Invalid Operator\n"
          ]
        }
      ]
    },
    {
      "cell_type": "code",
      "source": [
        ""
      ],
      "metadata": {
        "id": "37KMobAY3sxo"
      },
      "execution_count": null,
      "outputs": []
    }
  ]
}