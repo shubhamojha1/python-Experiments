{
  "nbformat": 4,
  "nbformat_minor": 0,
  "metadata": {
    "colab": {
      "name": "Experiment_4.ipynb",
      "provenance": [],
      "collapsed_sections": []
    },
    "kernelspec": {
      "name": "python3",
      "display_name": "Python 3"
    },
    "language_info": {
      "name": "python"
    }
  },
  "cells": [
    {
      "cell_type": "code",
      "execution_count": null,
      "metadata": {
        "colab": {
          "base_uri": "https://localhost:8080/",
          "height": 54
        },
        "id": "k-woV38b63iC",
        "outputId": "d974776e-c9b4-468b-bce2-c33865d48c9b"
      },
      "outputs": [
        {
          "output_type": "execute_result",
          "data": {
            "application/vnd.google.colaboratory.intrinsic+json": {
              "type": "string"
            },
            "text/plain": [
              "'\\nimplement a shopping cart using linked list\\nadd, remove, display all items\\ncalculate the total amount of cart\\neach item detail containts item id, name, quantity, price\\n'"
            ]
          },
          "metadata": {},
          "execution_count": 2
        }
      ],
      "source": [
        "\"\"\"\n",
        "implement a shopping cart using linked list\n",
        "add, remove, display all items\n",
        "calculate the total amount of cart\n",
        "each item detail containts item id, name, quantity, price\n",
        "\"\"\""
      ]
    },
    {
      "cell_type": "code",
      "source": [
        "import sys\n",
        "import time"
      ],
      "metadata": {
        "id": "TSLX_zxi7X_8"
      },
      "execution_count": null,
      "outputs": []
    },
    {
      "cell_type": "code",
      "source": [
        "class Node:\n",
        "  def __init__(self, id, name, quantity, price):\n",
        "    self.id = id\n",
        "    self.name = name\n",
        "    self.quantity = quantity\n",
        "    self.price = price\n",
        "    self.next = None"
      ],
      "metadata": {
        "id": "Ava8Xrof7an2"
      },
      "execution_count": null,
      "outputs": []
    },
    {
      "cell_type": "code",
      "source": [
        "class LinkedList:\n",
        "  # amount = 0\n",
        "  def __init__(self):\n",
        "    self.start = None\n",
        "    # self.amount = 0\n",
        "\n",
        "  def addNode(self, id, name, quantity, price):\n",
        "    new_product = Node(id, name, quantity, price)\n",
        "\n",
        "    if self.start is None:\n",
        "      self.start = new_product\n",
        "    else:\n",
        "      pointer = self.start\n",
        "\n",
        "      while pointer.next is not None:\n",
        "        pointer = pointer.next\n",
        "      pointer.next = new_product\n",
        "      new_product.next = None\n",
        "    global amount\n",
        "    amount += (new_product.quantity * new_product.price)\n",
        "\n",
        "  def printList(self):\n",
        "    pointer = self.start\n",
        "    print(\"\\t\\t~~SHOPPING CART~~\")\n",
        "    print(\"ID\\tName\\tQuantity\\tPrice\")\n",
        "    while pointer is not None:\n",
        "      print(f\"{pointer.id}\\t{pointer.name}\\t{pointer.quantity}\\t{pointer.price}\")\n",
        "      pointer = pointer.next\n",
        "\n",
        "  def removeNode(self, name):\n",
        "    global amount\n",
        "\n",
        "    if self.start.name == name:\n",
        "      deleted = self.start\n",
        "      # self.start = self.start.next\n",
        "      amount -= (deleted.quantity * deleted.price)\n",
        "      next_node = deleted.next\n",
        "\n",
        "    else:\n",
        "      prev = self.start\n",
        "      while prev.next.name != name:\n",
        "        prev = prev.next\n",
        "      deleted = prev.next\n",
        "      amount -= (deleted.quantity * deleted.price)\n",
        "      next_node = deleted.next\n",
        "      prev.next = next_node\n",
        "      \n",
        "  def totalAmount(self):\n",
        "    global amount\n",
        "    print(\"amount = \", amount)\n"
      ],
      "metadata": {
        "id": "8G_5Tb0R7q10"
      },
      "execution_count": null,
      "outputs": []
    },
    {
      "cell_type": "code",
      "source": [
        "l1 = LinkedList()\n",
        "amount = 0\n",
        "id = []\n",
        "name = []\n",
        "while True:\n",
        "  # global amount\n",
        "  print(\"\\n1.Add item\\n2.Delete item\\n3.Display all items\\n4.Total amount\\n5.Exit\")\n",
        "  choice = int(input(\"\\nEnter choice: \"))\n",
        "  if choice == 1:\n",
        "    id = int(input(\"\\nEnter product id: \"))\n",
        "    name = input(\"\\nEnter product name: \")\n",
        "    price = float(input(\"\\nEnter price: \"))\n",
        "    quantity = int(input(\"\\nEnter quantity: \"))\n",
        "    l1.addNode(id, name, quantity, price)\n",
        "    print(\"PRODUCT ADDED!!\")\n",
        "  elif choice == 3:\n",
        "    if l1.start is None:\n",
        "      print(\"CART IS EMPTY!!\")\n",
        "    else:\n",
        "      l1.printList()\n",
        "  elif choice == 5:\n",
        "    print(\"Exiting Shopping Cart!\")\n",
        "    for i in range(3):\n",
        "      print(\".\", end=\" \")\n",
        "      time.sleep(1)\n",
        "    break\n",
        "  elif choice == 2:\n",
        "    if l1.start is not None:\n",
        "      name = input(\"Enter name of product: \")\n",
        "      l1.removeNode(name)\n",
        "      print(\"PRODUCT REMOVED!!\")\n",
        "    else:\n",
        "      print(\"CART IS EMPTY!!\")\n",
        "  elif choice == 4:\n",
        "    l1.totalAmount()"
      ],
      "metadata": {
        "colab": {
          "base_uri": "https://localhost:8080/"
        },
        "id": "gxwMRotT9jN7",
        "outputId": "d8ee3ddf-67ac-4ed9-dc8f-69e8ee740512"
      },
      "execution_count": null,
      "outputs": [
        {
          "output_type": "stream",
          "name": "stdout",
          "text": [
            "\n",
            "1.Add item\n",
            "2.Delete item\n",
            "3.Display all items\n",
            "4.Total amount\n",
            "5.Exit\n",
            "\n",
            "Enter choice: 1\n",
            "\n",
            "Enter product id: 1\n",
            "\n",
            "Enter product name: aaaaaaaaa\n",
            "\n",
            "Enter price: 100\n",
            "\n",
            "Enter quantity: 1\n",
            "PRODUCT ADDED!!\n",
            "\n",
            "1.Add item\n",
            "2.Delete item\n",
            "3.Display all items\n",
            "4.Total amount\n",
            "5.Exit\n",
            "\n",
            "Enter choice: 3\n",
            "\t\t~~SHOPPING CART~~\n",
            "ID\tName\tQuantity\tPrice\n",
            "1\taaaaaaaaa\t1\t100.0\n",
            "\n",
            "1.Add item\n",
            "2.Delete item\n",
            "3.Display all items\n",
            "4.Total amount\n",
            "5.Exit\n",
            "\n",
            "Enter choice: 2\n",
            "Enter name of product: aaaaaaaaa\n",
            "PRODUCT REMOVED!!\n",
            "\n",
            "1.Add item\n",
            "2.Delete item\n",
            "3.Display all items\n",
            "4.Total amount\n",
            "5.Exit\n",
            "\n",
            "Enter choice: 4\n",
            "amount =  0.0\n",
            "\n",
            "1.Add item\n",
            "2.Delete item\n",
            "3.Display all items\n",
            "4.Total amount\n",
            "5.Exit\n",
            "\n",
            "Enter choice: 5\n",
            "Exiting Shopping Cart!\n",
            ". . . "
          ]
        }
      ]
    },
    {
      "cell_type": "code",
      "source": [
        "class Stack:\n",
        "  arr = []\n",
        "  def isEmpty(self):\n",
        "        if (len(self.arr) == 0):\n",
        "            return True\n",
        "        return False\n",
        "\n",
        "  def peek(self):\n",
        "    return self.arr[-1]\n",
        "\n",
        "  def pop(self):\n",
        "    return self.arr.pop()\n",
        "\n",
        "def infixToPostfix(infixexpr):\n",
        "    prec = {}\n",
        "    prec[\"*\"] = 3\n",
        "    prec[\"/\"] = 3\n",
        "    prec[\"+\"] = 2\n",
        "    prec[\"-\"] = 2\n",
        "    prec[\"(\"] = 1\n",
        "\n",
        "    opStack = Stack()\n",
        "    postfixList = []\n",
        "    print(postfixList)\n",
        "\n",
        "    tokenList = infixexpr.split(' ')\n",
        "\n",
        "    for token in tokenList:\n",
        "        if token in \"ABCDEFGHIJKLMNOPQRSTUVWXYZ\" or token in \"0123456789\":\n",
        "            postfixList.append(token)\n",
        "        elif token in '(':\n",
        "            opStack.arr.append(token)\n",
        "        elif token in ')':\n",
        "            curr = opStack.arr.pop()\n",
        "            while(curr != '('):\n",
        "                postfixList.append(curr)\n",
        "                curr = opStack.arr.pop()\n",
        "        elif opStack.isEmpty():\n",
        "            opStack.arr.append(token)\n",
        "        else:\n",
        "            while (not opStack.isEmpty()) and (prec[str(opStack.peek())] >= prec[str(token)]):\n",
        "                  postfixList.append(opStack.pop())\n",
        "            opStack.arr.append(token)\n",
        "\n",
        "    while not opStack.isEmpty():\n",
        "        postfixList.append(opStack.pop())\n",
        "    return \" \".join(postfixList)"
      ],
      "metadata": {
        "id": "Pes4V50fAygH"
      },
      "execution_count": 1,
      "outputs": []
    },
    {
      "cell_type": "code",
      "source": [
        "print(infixToPostfix(\"( A + B ) * C - ( D - E ) * ( F + G )\"))"
      ],
      "metadata": {
        "colab": {
          "base_uri": "https://localhost:8080/"
        },
        "id": "53eXGxWNv2jt",
        "outputId": "0265c091-de2e-48b5-a4db-076ff7912f03"
      },
      "execution_count": 2,
      "outputs": [
        {
          "output_type": "stream",
          "name": "stdout",
          "text": [
            "[]\n",
            "A B + C * D E - F G + * -\n"
          ]
        }
      ]
    },
    {
      "cell_type": "code",
      "source": [
        "class doubleNode:\n",
        "  def __init__(self,data):\n",
        "    self.data = data\n",
        "    self.next = None\n",
        "    self.prev = None\n",
        "\n",
        "class doubleLinkedList:\n",
        "    def __init__ (self):\n",
        "        self.start = None\n",
        "  \n",
        "    def insert(self,data):\n",
        "        if(self.start is None):\n",
        "            self.start = doubleNode(data)\n",
        "            return\n",
        "        else:\n",
        "            it = self.start\n",
        "            prev = None\n",
        "            while(it is not None):\n",
        "                if (it.data <= data):\n",
        "                    break\n",
        "                else:\n",
        "                    prev = it\n",
        "                    it = it.next\n",
        "                \n",
        "        if prev is None:\n",
        "            temp = self.start\n",
        "            self.start = doubleNode(data)\n",
        "            self.start.next = temp\n",
        "            temp.prev = self.start\n",
        "            if(temp.next):\n",
        "                temp.next.prev = temp\n",
        "        elif it is None:\n",
        "            it = doubleNode(data)\n",
        "            it.prev = prev\n",
        "            prev.next = it\n",
        "        else:\n",
        "            temp = prev.next\n",
        "            prev.next = doubleNode(data)\n",
        "            prev.next.next = temp\n",
        "            prev.next.prev = prev\n",
        "            if(temp.next):\n",
        "                temp.next.prev = temp\n",
        "    \n",
        "    def display(self,it):\n",
        "        if it is not None:\n",
        "            print(f'{it.data} ',end=\" \")\n",
        "            return self.display(it.next)\n",
        "            \n",
        "    def count(self,it,counter = 0):\n",
        "        if(it is not None):\n",
        "            return self.count(it.next,counter+1)\n",
        "        return f'Size of Linked List is : {counter}'\n",
        "    \n",
        "dll = doubleLinkedList()"
      ],
      "metadata": {
        "id": "t5Swej5EwDlu"
      },
      "execution_count": 3,
      "outputs": []
    },
    {
      "cell_type": "code",
      "source": [
        "while(True):\n",
        "    choice = input(\"1.Insert\\n2.Display\\n3.Size\\n4.Exit\\n\")\n",
        "    if(choice == '1'):\n",
        "        value = int(input(\"Enter value to insert : \"))\n",
        "        dll.insert(value);\n",
        "    if(choice == '2'):\n",
        "        dll.display(dll.start)\n",
        "    if(choice == '3'):\n",
        "        print(dll.count(dll.start))\n",
        "    if(choice == '4'):\n",
        "        break"
      ],
      "metadata": {
        "colab": {
          "base_uri": "https://localhost:8080/"
        },
        "id": "SkjsYXfjwHbd",
        "outputId": "6f9c7e07-6f48-49a0-8fdf-91cc488e32d3"
      },
      "execution_count": 4,
      "outputs": [
        {
          "name": "stdout",
          "output_type": "stream",
          "text": [
            "1.Insert\n",
            "2.Display\n",
            "3.Size\n",
            "4.Exit\n",
            "1\n",
            "Enter value to insert : 2\n",
            "1.Insert\n",
            "2.Display\n",
            "3.Size\n",
            "4.Exit\n",
            "2\n",
            "2  1.Insert\n",
            "2.Display\n",
            "3.Size\n",
            "4.Exit\n",
            "1\n",
            "Enter value to insert : 4\n",
            "1.Insert\n",
            "2.Display\n",
            "3.Size\n",
            "4.Exit\n",
            "2\n",
            "4  2  1.Insert\n",
            "2.Display\n",
            "3.Size\n",
            "4.Exit\n",
            "4\n"
          ]
        }
      ]
    },
    {
      "cell_type": "code",
      "source": [
        ""
      ],
      "metadata": {
        "id": "3Q3uzh2dwOye"
      },
      "execution_count": null,
      "outputs": []
    }
  ]
}