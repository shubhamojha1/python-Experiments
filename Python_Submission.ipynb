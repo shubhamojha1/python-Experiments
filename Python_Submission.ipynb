{
  "nbformat": 4,
  "nbformat_minor": 0,
  "metadata": {
    "colab": {
      "name": "Python-Submission.ipynb",
      "provenance": [],
      "authorship_tag": "ABX9TyN8FWOaA9H6H6gPQei02lC1",
      "include_colab_link": true
    },
    "kernelspec": {
      "name": "python3",
      "display_name": "Python 3"
    },
    "language_info": {
      "name": "python"
    }
  },
  "cells": [
    {
      "cell_type": "markdown",
      "metadata": {
        "id": "view-in-github",
        "colab_type": "text"
      },
      "source": [
        "<a href=\"https://colab.research.google.com/github/shubhamojha1/python-Experiments/blob/main/Python_Submission.ipynb\" target=\"_parent\"><img src=\"https://colab.research.google.com/assets/colab-badge.svg\" alt=\"Open In Colab\"/></a>"
      ]
    },
    {
      "cell_type": "markdown",
      "source": [
        "Q1: https://www.hackerrank.com/challenges/encryption/problem?isFullScreen=false"
      ],
      "metadata": {
        "id": "AeeVCGrpwMpN"
      }
    },
    {
      "cell_type": "code",
      "execution_count": 1,
      "metadata": {
        "id": "O7sf8SFyvUZp",
        "colab": {
          "base_uri": "https://localhost:8080/"
        },
        "outputId": "b6414f48-31a4-42d5-dd2b-da12903fe75c"
      },
      "outputs": [
        {
          "output_type": "stream",
          "name": "stdout",
          "text": [
            "bgwdyygtmwhtwhusfedckrgybozfjaukgsngqvzftiypqukxypbkghjiwkphkjtsdizueaz\n",
            "bwdfqujs ghcjvkid wtkazxwi dwrufykz yhgktppu yuygibhe gsbsykka tfonpgjz mezgqht \n"
          ]
        }
      ],
      "source": [
        "#l = length of text\n",
        "from math import *\n",
        "# from pydoc import plain\n",
        "plaintext = input()\n",
        "length = len(plaintext)\n",
        "rows = floor(sqrt(length))\n",
        "columns = ceil(sqrt(length))\n",
        "# print(plaintext, length, rows, columns)\n",
        "if rows*columns < length:\n",
        "    # print(min(rows, columns))\n",
        "    if min(rows, columns) == rows:\n",
        "        rows+=1\n",
        "    else:\n",
        "        columns+=1\n",
        "grid = []\n",
        "# for i in range(columns):\n",
        "start = 0\n",
        "for i in range(rows):\n",
        "    grid.append(plaintext[start:start+columns])\n",
        "    start+=columns\n",
        "    # columns+=columns\n",
        "    # print(start, columns)\n",
        "    # print(i, grid, plaintext[start:columns])\n",
        "\n",
        "# print(grid)\n",
        "ans = \"\"\n",
        "for i in range(columns):\n",
        "    for word in grid:\n",
        "        try:\n",
        "            # print(word[i])\n",
        "            ans+=word[i]\n",
        "        # ans+=word[i]\n",
        "        # i+=1\n",
        "        except IndexError:\n",
        "            pass\n",
        "    ans+=\" \"\n",
        "print(ans)"
      ]
    },
    {
      "cell_type": "markdown",
      "source": [
        "Q2: https://www.hackerrank.com/challenges/climbing-the-leaderboard/problem?isFullScreen=false"
      ],
      "metadata": {
        "id": "UBVYV8Kld7Rc"
      }
    },
    {
      "cell_type": "code",
      "source": [
        "import math\n",
        "import os\n",
        "import random\n",
        "import re\n",
        "import sys\n",
        "\n",
        "#\n",
        "# Complete the 'climbingLeaderboard' function below.\n",
        "#\n",
        "# The function is expected to return an INTEGER_ARRAY.\n",
        "# The function accepts following parameters:\n",
        "#  1. INTEGER_ARRAY ranked\n",
        "#  2. INTEGER_ARRAY player\n",
        "#\n",
        "\n",
        "def climbingLeaderboard(ranked, player):\n",
        "    \n",
        "    # ranked = list(set(map(int, input().split())))\n",
        "    # player = list(map(int, input().split()))\n",
        "    ranked.sort(reverse=True)\n",
        "    result = []\n",
        "    l = len(ranked)\n",
        "    for i in player:\n",
        "        while (l>0) and (i >=ranked[l-1]):\n",
        "            l-=1\n",
        "        result.append(l+1)\n",
        "\n",
        "    return(result)\n",
        "if __name__ == '__main__':\n",
        "    # fptr = open(os.environ['pwd'], 'w')\n",
        "\n",
        "    ranked_count = int(input().strip())\n",
        "\n",
        "    ranked = list(set(map(int, input().rstrip().split())))\n",
        "\n",
        "    player_count = int(input().strip())\n",
        "\n",
        "    player = list(map(int, input().rstrip().split()))\n",
        "\n",
        "    result = climbingLeaderboard(ranked, player)\n",
        "    print('Subsequent ranks of player- ',result)\n",
        "    # fptr.write('\\n'.join(map(str, result)))\n",
        "    # fptr.write('\\n')\n",
        "\n",
        "    # fptr.close()"
      ],
      "metadata": {
        "colab": {
          "base_uri": "https://localhost:8080/"
        },
        "id": "A-o6Gu2rduJy",
        "outputId": "e8891834-6d64-4fd1-dbe6-d801194657a7"
      },
      "execution_count": 7,
      "outputs": [
        {
          "output_type": "stream",
          "name": "stdout",
          "text": [
            "7\n",
            "100 100 50 40 40 20 10\n",
            "4\n",
            "5 25 50 120\n",
            "Subsequent ranks of player-  [6, 4, 2, 1]\n"
          ]
        }
      ]
    },
    {
      "cell_type": "markdown",
      "source": [
        "Q3: https://www.codechef.com/problems/JOHNY"
      ],
      "metadata": {
        "id": "FDhDIudVwOfG"
      }
    },
    {
      "cell_type": "code",
      "source": [
        "t = int(input())\n",
        "\n",
        "while t!=0:\n",
        "    n = int(input())\n",
        "    arr = list(map(int, input().split()))\n",
        "    k = int(input())\n",
        "    arr.insert(0,0)\n",
        "    n+=1\n",
        "    johny = arr[k]\n",
        "    arr.sort()\n",
        "    for i in range(n):\n",
        "        if arr[i] == johny:\n",
        "            ans = i\n",
        "            break\n",
        "    t-=1\n",
        "    print(ans)\n",
        "# 3\n",
        "# 4\n",
        "# 1 3 4 2\n",
        "# 2\n",
        "# 5\n",
        "# 1 2 3 9 4\n",
        "# 5\n",
        "# 5\n",
        "# 1 2 3 9 4 \n",
        "# 1\n",
        "# 5\n",
        "# 1 "
      ],
      "metadata": {
        "colab": {
          "base_uri": "https://localhost:8080/"
        },
        "id": "rgyAAM7BlxyG",
        "outputId": "80a6dd43-2fc7-4582-ef9d-3ec05d8d980a"
      },
      "execution_count": 9,
      "outputs": [
        {
          "output_type": "stream",
          "name": "stdout",
          "text": [
            "3\n",
            "4\n",
            "1 3 4 2 \n",
            "2 \n",
            "3\n",
            "5\n",
            "1 2 3 9 4 \n",
            "5\n",
            "4\n",
            "1\n",
            "5\n",
            "1\n",
            "1\n"
          ]
        }
      ]
    },
    {
      "cell_type": "code",
      "source": [
        "\n",
        "T=int(input())\n",
        "for i in range(T):\n",
        "    N=int(input())\n",
        "    S=list(map(int,input().split()))\n",
        "    S.sort()\n",
        "    minimum=S[1]-S[0]\n",
        "    for j in range(1,N):\n",
        "        if (S[j]-S[j-1]<minimum):\n",
        "            minimum=S[j]-S[j-1]\n",
        "    print(minimum)\n",
        "# 1\n",
        "# 5\n",
        "# 4 9 1 32 13"
      ],
      "metadata": {
        "colab": {
          "base_uri": "https://localhost:8080/"
        },
        "id": "5Q4jdCY7zVtw",
        "outputId": "a02cea65-b3aa-4b23-dae0-173fca641bbc"
      },
      "execution_count": 10,
      "outputs": [
        {
          "output_type": "stream",
          "name": "stdout",
          "text": [
            "1\n",
            "5\n",
            "4 9 1 32 13\n",
            "3\n"
          ]
        }
      ]
    },
    {
      "cell_type": "code",
      "source": [
        "\n"
      ],
      "metadata": {
        "id": "zi8PsFWn06CT"
      },
      "execution_count": null,
      "outputs": []
    }
  ]
}